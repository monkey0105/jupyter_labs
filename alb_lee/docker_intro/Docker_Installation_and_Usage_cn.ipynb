{
 "cells": [
  {
   "cell_type": "markdown",
   "metadata": {
    "toc": "true"
   },
   "source": [
    "# Table of Contents\n",
    " <p><div class=\"lev1 toc-item\"><a href=\"#Docker安装和部署简易教程\" data-toc-modified-id=\"Docker安装和部署简易教程-1\"><span class=\"toc-item-num\">1&nbsp;&nbsp;</span><center>Docker安装和部署简易教程</center></a></div><div class=\"lev2 toc-item\"><a href=\"#在Ubuntu上安装Docker\" data-toc-modified-id=\"在Ubuntu上安装Docker-11\"><span class=\"toc-item-num\">1.1&nbsp;&nbsp;</span><center>在Ubuntu上安装Docker</center></a></div><div class=\"lev3 toc-item\"><a href=\"#系统要求\" data-toc-modified-id=\"系统要求-111\"><span class=\"toc-item-num\">1.1.1&nbsp;&nbsp;</span>系统要求</a></div><div class=\"lev3 toc-item\"><a href=\"#安装\" data-toc-modified-id=\"安装-112\"><span class=\"toc-item-num\">1.1.2&nbsp;&nbsp;</span>安装</a></div><div class=\"lev3 toc-item\"><a href=\"#升级\" data-toc-modified-id=\"升级-113\"><span class=\"toc-item-num\">1.1.3&nbsp;&nbsp;</span>升级</a></div><div class=\"lev3 toc-item\"><a href=\"#卸载\" data-toc-modified-id=\"卸载-114\"><span class=\"toc-item-num\">1.1.4&nbsp;&nbsp;</span>卸载</a></div><div class=\"lev2 toc-item\"><a href=\"#设定Docker守护进程开机启动\" data-toc-modified-id=\"设定Docker守护进程开机启动-12\"><span class=\"toc-item-num\">1.2&nbsp;&nbsp;</span><center>设定Docker守护进程开机启动</center></a></div><div class=\"lev2 toc-item\"><a href=\"#以非管理员账户管理Docker\" data-toc-modified-id=\"以非管理员账户管理Docker-13\"><span class=\"toc-item-num\">1.3&nbsp;&nbsp;</span><center>以非管理员账户管理Docker</center></a></div><div class=\"lev2 toc-item\"><a href=\"#用Docker容器部署python３项目\" data-toc-modified-id=\"用Docker容器部署python３项目-14\"><span class=\"toc-item-num\">1.4&nbsp;&nbsp;</span><center>用Docker容器部署python３项目</center></a></div><div class=\"lev3 toc-item\"><a href=\"#下载python3基础镜像\" data-toc-modified-id=\"下载python3基础镜像-141\"><span class=\"toc-item-num\">1.4.1&nbsp;&nbsp;</span>下载python3基础镜像</a></div><div class=\"lev3 toc-item\"><a href=\"#项目部署\" data-toc-modified-id=\"项目部署-142\"><span class=\"toc-item-num\">1.4.2&nbsp;&nbsp;</span>项目部署</a></div><div class=\"lev3 toc-item\"><a href=\"#宿主机端口映射\" data-toc-modified-id=\"宿主机端口映射-143\"><span class=\"toc-item-num\">1.4.3&nbsp;&nbsp;</span>宿主机端口映射</a></div>"
   ]
  },
  {
   "cell_type": "markdown",
   "metadata": {},
   "source": [
    "# <center>Docker安装和部署简易教程</center>\n",
    "-----------------------------------"
   ]
  },
  {
   "cell_type": "markdown",
   "metadata": {},
   "source": [
    "## <center>在Ubuntu上安装Docker</center>\n",
    "\n",
    "### 系统要求\n",
    "* __64位版本的Ubuntu__\n",
    "* __支持的Ubuntu版本__\n",
    "    > * Yakkety(16.10)\n",
    "    > * Xenial(16.04 LTS)\n",
    "    > * Trusty(14.04 LTS)\n",
    "* __可选项, 推荐在Ubuntu Trusty(14.04)版本上安装‘linux-image-extra-\\*’相关包，以使aufs存储驱动可用__\n",
    "    > 1. \\$ sudo apt-get update\n",
    "    > 2. \\$ sudo apt-get install -y --no-install-recommends \n",
    "    linux-image-extra-$(uname -r) \n",
    "    linux-image-extra-virtual\n",
    "\n",
    "### 安装\n",
    "* __1\\. 添加Docker库到apt-get源中__\n",
    "    > 1. 安装apt通过HTTPS协议链接库所需要的包:  \n",
    "        >>`$ sudo apt-get install -y --no-install-recommends apt-transport-https ca-certificates curl software-properties-common`\n",
    "    > 2. 添加Docker官方GPG秘钥:\n",
    "        >> `$ curl -fsSL https://apt.dockerproject.org/gpg | sudo apt-key add -`\n",
    "    > 3. 检验秘钥是否完整:\n",
    "        >> `$ apt-key fingerprint 58118E89F3A912897C070ADBF76221572C52609D`\n",
    "    > 4. 添加Ubuntu版本对应的apt:\n",
    "        >> `$ sudo add-apt-repository \"deb https://apt.dockerproject.org/repo/ ubuntu-$(lsb_release -cs) main\"` \n",
    "* __2\\. 更新apt-get索引__\n",
    "    > `$ sudo apt-get update`\n",
    "* __3\\. 安装Docker__\n",
    "    > 1. 检索apt源中可用Docker版本\n",
    "        >> `$ apt-cache madison docker-engine`                \n",
    "       `$ apt-cache policy docker-engine`\n",
    "    > 2. 安装制定版本Docker\n",
    "        >> `$ sudo apt-get -y install docker-engine[=<VERSION_STRING>]`          \n",
    "        _**如果不指定版本字符串，则默认安装最新版本的Docker**_ \n",
    "* __4\\. 验证安装__\n",
    "    > `$ sudo docker run hello-world`\n",
    "\n",
    "         \n",
    "### 升级 \n",
    "> 按照安装教程，选定最新版本安装\n",
    "    \n",
    "### 卸载\n",
    "*   __1\\. 卸载Docker相关组件__\n",
    "    > `$ sudo apt-get purge docker-engine`\n",
    "*   __2\\. 删除系统残留的镜像、容器和硬盘卷__\n",
    "    > `$ sudo rm -rf /var/lib/docker`\n",
    "\n",
    "------------------------------ "
   ]
  },
  {
   "cell_type": "markdown",
   "metadata": {
    "collapsed": true
   },
   "source": [
    "## <center>设定Docker守护进程开机启动</center>\n",
    "\n",
    ">* _**systemd**_ 初始化系统\n",
    "    >>* 支持系统版本 : __Ubuntu 16.04及更新版本__\n",
    "    >>* 启动开机守护进程 : __`$ sudo systemctl enable docker`__\n",
    "    >>* 移除开机守护进程 : __`$ sudo systemctl disable docker`__\n",
    "    \n",
    ">* _**upstart**_ 初始化系统\n",
    "    >>* 支持系统版本 : __Ubuntu 14.10 及更早版本__\n",
    "    >>* 启动开机守护进程 : __默认安装后自动激活开机启动__\n",
    "    >>* 移除开机守护进程 : __`$ echo manual | sudo tee /etc/init/docker.override`__\n",
    "    \n",
    "----------------------------------------------"
   ]
  },
  {
   "cell_type": "markdown",
   "metadata": {},
   "source": [
    "## <center>以非管理员账户管理Docker</center>\n",
    "\n",
    ">* 创建用户组： _**docker**_ \n",
    "    >> `$ sudo groupadd docker`\n",
    "\n",
    ">* 添加_**指定用户**_到docker用户组\n",
    "    >> `$ sudo usermod -aG docker $USER`\n",
    "\n",
    ">* 通过_**登出**_到_**登入**_流程重新加载组关系映射\n",
    "    >> `$ exit`              \n",
    "    >> `$ su $USER`\n",
    "\n",
    ">* 验证_**指定用户**_是否能正常管理Docker\n",
    "    >> `$ docker run hello-world`\n",
    "    \n",
    ">* __注__ : $USER变量对应用来管理Docker的用户名\n",
    "\n",
    "----------------------------------------------"
   ]
  },
  {
   "cell_type": "markdown",
   "metadata": {},
   "source": [
    "## <center>用Docker容器部署python３项目</center>\n",
    "\n",
    "### 下载python3基础镜像\n",
    "\n",
    ">* 镜像名字: [alblee/py3-basic](https://hub.docker.com/r/alblee/py3-basic \"The docker hub URL\")\n",
    ">* 对应源码地址: [alb-lee/py3-basic](https://github.com/alb-lee/py3-basic \"The Github URL\")\n",
    ">* 下载命令: `$ docker pull alblee/py3-basic`\n",
    "\n",
    "### 项目部署\n",
    "\n",
    ">* __生产环境部署方式__\n",
    "    >> 通过构建Docker镜像的方式将项目代码打包进镜像，示例的Dockerfile:\n",
    "    \n",
    "________\n",
    "    \n",
    "    \n",
    "    >># 选定基础镜像\n",
    "    >>FROM alblee/py3-basic:latest\n",
    "    >>\n",
    "    >># 将源码拷贝到指定位置\n",
    "    >># 源码需与此文件位于相同位置\n",
    "    >>ADD project.py /path-to-deploy-directory\n",
    "    >>\n",
    "    >># 为容器设定自动启动\n",
    "    >>ENTRYPOINT python /path-to-deploy-directory/project.py [parameters] \n",
    "    \n",
    "________\n",
    "    \n",
    ">* __临时日常脚本方式__\n",
    "    >> 在启动容器时，将对应脚本挂在进容器，示例命令:           \n",
    "    __`$ docker run -v path-on-host:path-on-container alblee/py3-basic path-on-container/project.py [parameters]`__\n",
    "\n",
    "### 宿主机端口映射\n",
    ">* 通过‘-p’选项进行端口映射，示例:                  \n",
    "    __`docker run -p host_port:container_port  ... `__\n",
    "----------------------------------------------"
   ]
  },
  {
   "cell_type": "code",
   "execution_count": null,
   "metadata": {
    "collapsed": true
   },
   "outputs": [],
   "source": []
  }
 ],
 "metadata": {
  "hide_input": false,
  "kernelspec": {
   "display_name": "Python 3",
   "language": "python",
   "name": "python3"
  },
  "language_info": {
   "codemirror_mode": {
    "name": "ipython",
    "version": 3
   },
   "file_extension": ".py",
   "mimetype": "text/x-python",
   "name": "python",
   "nbconvert_exporter": "python",
   "pygments_lexer": "ipython3",
   "version": "3.5.2"
  },
  "toc": {
   "colors": {
    "hover_highlight": "#DAA520",
    "running_highlight": "#FF0000",
    "selected_highlight": "#FFD700"
   },
   "moveMenuLeft": true,
   "nav_menu": {
    "height": "328px",
    "width": "252px"
   },
   "navigate_menu": true,
   "number_sections": true,
   "sideBar": true,
   "threshold": 4,
   "toc_cell": true,
   "toc_section_display": "block",
   "toc_window_display": true
  }
 },
 "nbformat": 4,
 "nbformat_minor": 2
}
