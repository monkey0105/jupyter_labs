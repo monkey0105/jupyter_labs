{
 "cells": [
  {
   "cell_type": "markdown",
   "metadata": {},
   "source": [
    "# <center>Docker basic tutorial</center>\n",
    "-----------------------------------"
   ]
  },
  {
   "cell_type": "markdown",
   "metadata": {},
   "source": [
    "## <center>Install Docker on Ubuntu</center>\n",
    "\n",
    "### OS requirements\n",
    "* __Choose a 64-bit version Ubuntu__\n",
    "* __Only support several versions of Ubuntu__\n",
    "    > * Yakkety(16.10)\n",
    "    > * Xenial(16.04 LTS)\n",
    "    > * Trusty(14.04 LTS)\n",
    "* __Optional, for Trusty(14.04) suggest to install linux-image-extra-\\* packages to enable aufs storage drivers__\n",
    "    > 1. \\$ sudo apt-get update\n",
    "    > 2. \\$ sudo apt-get install -y --no-install-recommends \n",
    "    linux-image-extra-$(uname -r) \n",
    "    linux-image-extra-virtual\n",
    "\n",
    "### Installation\n",
    "* __1\\. Set up the Docker repository__\n",
    "    > 1. Install packages to allow apt to use a repository over HTTPS:  \n",
    "        >>`$ sudo apt-get install -y --no-install-recommends apt-transport-https ca-certificates curl software-properties-common`\n",
    "    > 2. Add Docker's offical GPG key\n",
    "        >> `$ curl -fsSL https://apt.dockerproject.org/gpg | sudo apt-key add -`\n",
    "    > 3. Verify the apt key to check its fingerprint\n",
    "        >> `$ apt-key fingerprint 58118E89F3A912897C070ADBF76221572C52609D`\n",
    "    > 4. Set up the stable repository\n",
    "        >> `$ sudo add-apt-repository \"deb https://apt.dockerproject.org/repo/ ubuntu-$(lsb_release -cs) main\"` \n",
    "* __2\\. Update apt package index__\n",
    "    > `$ sudo apt-get update`\n",
    "* __3\\. Install Docker__\n",
    "    > 1. check available packages in the repository\n",
    "        >> `$ apt-cache madison docker-engine`                \n",
    "       `$ apt-cache policy docker-engine`\n",
    "    > 2. install specified version docker\n",
    "        >> `$ sudo apt-get -y install docker-engine[=<VERSION_STRING>]`          \n",
    "        _**If do not supply the version string will install the latest version**_ \n",
    "* __4\\. Verify the installation__\n",
    "    > `$ sudo docker run hello-world`\n",
    "\n",
    "         \n",
    "### Upgrade \n",
    "> Just use the same protocol as the installation part, but choose a newer version of Docker\n",
    "    \n",
    "### Uninstall Docker\n",
    "*   __1\\. Uninstall the Docker package__\n",
    "    > `$ sudo apt-get purge docker-engine`\n",
    "*   __2\\. Delete all remaining images , containers and volumes__\n",
    "    > `$ sudo rm -rf /var/lib/docker`\n",
    "\n",
    "------------------------------ "
   ]
  },
  {
   "cell_type": "markdown",
   "metadata": {
    "collapsed": true
   },
   "source": [
    "## <center>Configure Docker to start on boot</center>\n",
    "\n",
    ">* _**systemd**_ initializing system\n",
    "    >>* Supported Linux system : __Ubuntu 16.04 and higher__\n",
    "    >>* Enable Docker method : __`$ sudo systemctl enable docker`__\n",
    "    >>* Disable Docker method : __`$ sudo systemctl disable docker`__\n",
    "    \n",
    ">* _**upstart**_ initializing system\n",
    "    >>* Supported Linux system : __Ubuntu 14.10 and below__\n",
    "    >>* Enable Docker method : __automatically configured after installation__\n",
    "    >>* Disable Docker method : __`$ echo manual | sudo tee /etc/init/docker.override`__\n",
    "    \n",
    "----------------------------------------------"
   ]
  },
  {
   "cell_type": "markdown",
   "metadata": {},
   "source": [
    "## <center>Manage Docker as a non-root user</center>\n",
    "\n",
    ">* Create the _**docker**_ group\n",
    "    >> `$ sudo groupadd docker`\n",
    "\n",
    ">* Add _**specified user**_ to this group\n",
    "    >> `$ sudo usermod -aG docker $USER`\n",
    "\n",
    ">* _**Log-out**_ and _**Log-in**_ to re-evaluated the group membership\n",
    "    >> `$ exit`              \n",
    "    >> `$ su $USER`\n",
    "\n",
    ">* Verify the _**user's privilege**_ to run docker\n",
    "    >> `$ docker run hello-world`\n",
    "    \n",
    ">* __Notice__ : $USER is the user name which you want to use to manage Docker\n",
    "\n",
    "----------------------------------------------"
   ]
  },
  {
   "cell_type": "markdown",
   "metadata": {},
   "source": [
    "## <center>Deploy python project through Docker</center>\n",
    "\n",
    "### Get python3 basic Docker image\n",
    "\n",
    ">* Docker image name : [alblee/py3-basic](https://hub.docker.com/r/alblee/py3-basic \"The docker hub URL\")\n",
    ">* Github repository : [alb-lee/py3-basic](https://github.com/alb-lee/py3-basic \"The Github URL\")\n",
    ">* Command : `$ docker pull alblee/py3-basic`\n",
    "\n",
    "### Integrate source code to Docker container\n",
    "\n",
    ">* __Deploy mode__\n",
    "    >> Create a Dockerfile to build new docker image like below:\n",
    "    \n",
    "________\n",
    "    \n",
    "    \n",
    "    >># Choose the basic image\n",
    "    >>FROM alblee/py3-basic:latest\n",
    "    >>\n",
    "    >># Copy python script to deployment directory\n",
    "    >># The python script should be in the same directory of the Dockerfile\n",
    "    >>ADD project.py /path-to-deploy-directory\n",
    "    >>\n",
    "    >># Set up auto-run route for the project when you run a docker container\n",
    "    >>ENTRYPOINT python /path-to-deploy-directory/project.py [parameters] \n",
    "    \n",
    "________\n",
    "    \n",
    ">* __Route script mode__\n",
    "    >> Load the project script when you run the docker container like below:           \n",
    "    __`$ docker run -v path-on-host:path-on-container alblee/py3-basic path-on-container/project.py [parameters]`__\n",
    "\n",
    "### Expose Port\n",
    ">* Just add '-p' flag in the docker run command like below:                  \n",
    "    __`docker run -p host_port:container_port  ... `__\n",
    "----------------------------------------------"
   ]
  }
 ],
 "metadata": {
  "kernelspec": {
   "display_name": "Python 3",
   "language": "python",
   "name": "python3"
  },
  "language_info": {
   "codemirror_mode": {
    "name": "ipython",
    "version": 3
   },
   "file_extension": ".py",
   "mimetype": "text/x-python",
   "name": "python",
   "nbconvert_exporter": "python",
   "pygments_lexer": "ipython3",
   "version": "3.6.0"
  }
 },
 "nbformat": 4,
 "nbformat_minor": 2
}
