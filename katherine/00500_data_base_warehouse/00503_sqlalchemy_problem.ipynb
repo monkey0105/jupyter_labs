{
 "cells": [
  {
   "cell_type": "markdown",
   "metadata": {
    "toc": "true"
   },
   "source": [
    "# Table of Contents\n",
    " <p><div class=\"lev1 toc-item\"><a href=\"#导入用到的库和构造测试数据表\" data-toc-modified-id=\"导入用到的库和构造测试数据表-1\"><span class=\"toc-item-num\">1&nbsp;&nbsp;</span>导入用到的库和构造测试数据表</a></div><div class=\"lev1 toc-item\"><a href=\"#create_sql的要求\" data-toc-modified-id=\"create_sql的要求-2\"><span class=\"toc-item-num\">2&nbsp;&nbsp;</span>create_sql的要求</a></div>"
   ]
  },
  {
   "cell_type": "markdown",
   "metadata": {},
   "source": [
    "这是部门给我们出的一份“家庭作业”。"
   ]
  },
  {
   "cell_type": "markdown",
   "metadata": {},
   "source": [
    "# 导入用到的库和构造测试数据表\n",
    "假设users记录了用户的user_id,name和age。\n",
    "\n",
    "trade记录了用户的交易日期date和交易金额amount，一个用户有多条交易记录。"
   ]
  },
  {
   "cell_type": "code",
   "execution_count": 1,
   "metadata": {
    "collapsed": false
   },
   "outputs": [],
   "source": [
    "from sqlalchemy import Table, MetaData, Column, Integer, String,select,func\n",
    "\n",
    "metadata = MetaData()\n",
    "users = Table(\n",
    "    'users',\n",
    "    metadata,\n",
    "    Column('user_id',Integer),\n",
    "    Column('name',String),\n",
    "    Column('age',String)    \n",
    ")\n",
    "\n",
    "trades = Table(\n",
    "    'trades',\n",
    "    metadata,\n",
    "    Column('user_id',Integer),\n",
    "    Column('date',String),\n",
    "    Column('amount',Integer)    \n",
    ")"
   ]
  },
  {
   "cell_type": "code",
   "execution_count": 30,
   "metadata": {
    "collapsed": true
   },
   "outputs": [],
   "source": [
    "def create_sql(user_id_list, attr_list):\n",
    "    # 清完成这个函数。作为练习，这个函数中可以引用全局变量的方式使用users和trades,请按照要求补全代码\n",
    "    \n",
    "    attr_dict = {\n",
    "        'name':{\n",
    "            'table':users,\n",
    "            'column':'name',\n",
    "            'func':None,\n",
    "        },\n",
    "        'age':{\n",
    "            'table':users,\n",
    "            'column':'age',\n",
    "            'func':None,\n",
    "        },\n",
    "        'first_date':{\n",
    "            'table':trades,\n",
    "            'column':'date',\n",
    "            'func':func.min,\n",
    "        },\n",
    "        'amount_sum':{\n",
    "            'table':trades,\n",
    "            'column':'amount',\n",
    "            'func':func.sum,\n",
    "        },\n",
    "    }\n",
    "\n",
    "    import pandas as pd\n",
    "    df = pd.DataFrame.from_dict(attr_dict, orient='index')\n",
    "\n",
    "    table_list = df.loc[attr_list]['table'].drop_duplicates().tolist()\n",
    "\n",
    "    s = None\n",
    "\n",
    "    for table in table_list:\n",
    "        s1 = None\n",
    "        s2 = None\n",
    "\n",
    "        none_func_attr_list = list(set(df[pd.isnull(df['func'])].loc[df['table'] == table].index) & set(attr_list))\n",
    "        func_attr_list = list(set(df[pd.notnull(df['func'])].loc[df['table'] == table].index) & set(attr_list))\n",
    "\n",
    "        if none_func_attr_list:\n",
    "            s1 = select(\n",
    "                [\n",
    "                    table.c.user_id,\n",
    "                    *[\n",
    "                        table.c[df.loc[attr]['column']] \n",
    "                        for attr in none_func_attr_list\n",
    "                    ],\n",
    "                ]\n",
    "            ).where(\n",
    "                table.c.user_id.in_(user_id_list)\n",
    "            )\n",
    "\n",
    "        if func_attr_list:\n",
    "            s2 = select(\n",
    "                [\n",
    "                    table.c.user_id,\n",
    "                    *[\n",
    "                        df.loc[attr]['func'](table.c[df.loc[attr]['column']]).label(attr)\n",
    "                        for attr in func_attr_list\n",
    "                    ],\n",
    "                ]\n",
    "            ).where(\n",
    "                table.c.user_id.in_(user_id_list)\n",
    "            ).group_by(\n",
    "                table.c.user_id\n",
    "            )\n",
    "\n",
    "        if s is None:\n",
    "            if s1 is not None:\n",
    "                s = s1\n",
    "            elif s2 is not None:\n",
    "                s = s2\n",
    "        else:\n",
    "            if s1 is not None:\n",
    "                s = select(\n",
    "                    [\n",
    "                        s.c.user_id,\n",
    "                        *[s.c[col] for col in s.c.keys() if col != 'user_id'],\n",
    "                        *[s1.c[col] for col in s1.c.keys() if col != 'user_id']\n",
    "                    ]\n",
    "                ).select_from(\n",
    "                    s.join(\n",
    "                        s1,\n",
    "                        s.c.user_id == s1.c.user_id\n",
    "                    )\n",
    "                )\n",
    "\n",
    "            if s2 is not None:\n",
    "                s = select(\n",
    "                    [\n",
    "                        s2.c.user_id,\n",
    "                        *[s.c[col] for col in s.c.keys() if col != 'user_id'],\n",
    "                        *[s2.c[col] for col in s2.c.keys() if col != 'user_id']\n",
    "                    ]\n",
    "                ).select_from(\n",
    "                    s.join(\n",
    "                        s2,\n",
    "                        s.c.user_id == s2.c.user_id\n",
    "                    )\n",
    "                )\n",
    "    \n",
    "    return s\n",
    "    \n",
    "    # Complete the code\n",
    "    # pass"
   ]
  },
  {
   "cell_type": "markdown",
   "metadata": {},
   "source": [
    "# create_sql的要求\n",
    "函数接受两个参数\n",
    "* user_id_list表示查询id的范围\n",
    "* attr_list表示查询的属性名组成的list,可以是'name','age','first_date','amount_sum'中某几个的组合\n",
    "    * amount_sum是总交易金额\n",
    "    * first_date是第一次交易日期\n",
    "\n",
    "函数返回的内容是能够实现查询逻辑的sqlalchmy object,要求是能够根据查询的属性生成对应的SQL逻辑。\n",
    "\n",
    "例一"
   ]
  },
  {
   "cell_type": "code",
   "execution_count": null,
   "metadata": {
    "collapsed": true
   },
   "outputs": [],
   "source": [
    "create_sql([1,2,3], ['name'])"
   ]
  },
  {
   "cell_type": "code",
   "execution_count": 31,
   "metadata": {
    "collapsed": false
   },
   "outputs": [
    {
     "name": "stdout",
     "output_type": "stream",
     "text": [
      "SELECT users.user_id, users.name \n",
      "FROM users \n",
      "WHERE users.user_id IN (:user_id_1, :user_id_2, :user_id_3)\n"
     ]
    }
   ],
   "source": [
    "print(create_sql([1,2,3], ['name']))"
   ]
  },
  {
   "cell_type": "code",
   "execution_count": 32,
   "metadata": {
    "collapsed": false
   },
   "outputs": [
    {
     "name": "stdout",
     "output_type": "stream",
     "text": [
      "SELECT trades.user_id, min(trades.date) AS first_date \n",
      "FROM trades \n",
      "WHERE trades.user_id IN (:user_id_1, :user_id_2, :user_id_3) GROUP BY trades.user_id\n"
     ]
    }
   ],
   "source": [
    "print(create_sql([1,2,3], ['first_date']))"
   ]
  },
  {
   "cell_type": "markdown",
   "metadata": {},
   "source": [
    "那么返回结果应该等同于s"
   ]
  },
  {
   "cell_type": "code",
   "execution_count": 3,
   "metadata": {
    "collapsed": false
   },
   "outputs": [],
   "source": [
    "s = select(\n",
    "    [\n",
    "        users.c['name']    \n",
    "    ]\n",
    ").where(\n",
    "    users.c['user_id'].in_([1,2,3])\n",
    ")"
   ]
  },
  {
   "cell_type": "code",
   "execution_count": 4,
   "metadata": {
    "collapsed": false
   },
   "outputs": [
    {
     "name": "stdout",
     "output_type": "stream",
     "text": [
      "SELECT users.name \n",
      "FROM users \n",
      "WHERE users.user_id IN (:user_id_1, :user_id_2, :user_id_3)\n"
     ]
    }
   ],
   "source": [
    "print(s)"
   ]
  },
  {
   "cell_type": "markdown",
   "metadata": {},
   "source": [
    "例二"
   ]
  },
  {
   "cell_type": "code",
   "execution_count": null,
   "metadata": {
    "collapsed": false
   },
   "outputs": [],
   "source": [
    "create_sql([1,2,3], ['name','age','first_date'])"
   ]
  },
  {
   "cell_type": "code",
   "execution_count": 33,
   "metadata": {
    "collapsed": false
   },
   "outputs": [
    {
     "name": "stdout",
     "output_type": "stream",
     "text": [
      "SELECT user_id, name, age, first_date \n",
      "FROM (SELECT users.user_id AS user_id, users.name AS name, users.age AS age \n",
      "FROM users \n",
      "WHERE users.user_id IN (:user_id_1, :user_id_2, :user_id_3)) JOIN (SELECT trades.user_id, min(trades.date) AS first_date \n",
      "FROM trades \n",
      "WHERE trades.user_id IN (:user_id_4, :user_id_5, :user_id_6) GROUP BY trades.user_id) ON user_id = user_id\n"
     ]
    }
   ],
   "source": [
    "print(create_sql([1,2,3], ['name','age','first_date']))"
   ]
  },
  {
   "cell_type": "markdown",
   "metadata": {},
   "source": [
    "那么返回的结果应该等同于s"
   ]
  },
  {
   "cell_type": "code",
   "execution_count": 7,
   "metadata": {
    "collapsed": false
   },
   "outputs": [],
   "source": [
    "s1 = select(\n",
    "    [\n",
    "        users.c.user_id,\n",
    "        users.c['name'],    \n",
    "        users.c['age'],        \n",
    "    ]\n",
    ").where(\n",
    "    users.c['user_id'].in_([1,2,3])\n",
    ")\n",
    "\n",
    "s2 = select(\n",
    "    [\n",
    "        trades.c.user_id,\n",
    "        func.min(trades.c['date']).label('first_date')        \n",
    "    ]\n",
    ").where(\n",
    "    trades.c['user_id'].in_([1,2,3])\n",
    ").group_by(\n",
    "    trades.c['user_id']\n",
    ")\n",
    "\n",
    "\n",
    "s = select(\n",
    "    [\n",
    "        s1.c.user_id,\n",
    "        s1.c['name'],\n",
    "        s1.c['age'],\n",
    "        s2.c['first_date']        \n",
    "    ]\n",
    ").select_from(\n",
    "    s1.join(s2,\n",
    "        s1.c.user_id == s2.c.user_id            \n",
    "    )\n",
    ")"
   ]
  },
  {
   "cell_type": "code",
   "execution_count": 8,
   "metadata": {
    "collapsed": false
   },
   "outputs": [
    {
     "name": "stdout",
     "output_type": "stream",
     "text": [
      "SELECT user_id, name, age, first_date \n",
      "FROM (SELECT users.user_id AS user_id, users.name AS name, users.age AS age \n",
      "FROM users \n",
      "WHERE users.user_id IN (:user_id_1, :user_id_2, :user_id_3)) JOIN (SELECT trades.user_id, min(trades.date) AS first_date \n",
      "FROM trades \n",
      "WHERE trades.user_id IN (:user_id_4, :user_id_5, :user_id_6) GROUP BY trades.user_id) ON user_id = user_id\n"
     ]
    }
   ],
   "source": [
    "print(s)"
   ]
  },
  {
   "cell_type": "code",
   "execution_count": null,
   "metadata": {
    "collapsed": true
   },
   "outputs": [],
   "source": []
  }
 ],
 "metadata": {
  "hide_input": false,
  "kernelspec": {
   "display_name": "Python 3",
   "language": "python",
   "name": "python3"
  },
  "language_info": {
   "codemirror_mode": {
    "name": "ipython",
    "version": 3
   },
   "file_extension": ".py",
   "mimetype": "text/x-python",
   "name": "python",
   "nbconvert_exporter": "python",
   "pygments_lexer": "ipython3",
   "version": "3.5.2"
  },
  "toc": {
   "colors": {
    "hover_highlight": "#DAA520",
    "running_highlight": "#FF0000",
    "selected_highlight": "#FFD700"
   },
   "moveMenuLeft": true,
   "nav_menu": {
    "height": "48px",
    "width": "252px"
   },
   "navigate_menu": true,
   "number_sections": true,
   "sideBar": true,
   "threshold": 4,
   "toc_cell": true,
   "toc_section_display": "block",
   "toc_window_display": true
  }
 },
 "nbformat": 4,
 "nbformat_minor": 0
}
