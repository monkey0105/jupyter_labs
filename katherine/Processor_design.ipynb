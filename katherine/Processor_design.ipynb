{
 "cells": [
  {
   "cell_type": "markdown",
   "metadata": {},
   "source": [
    "需求是设计一个流程框架，接收一个输入，经过多层判断条件和处理过程，最后输出对输入的分类，未能被分类的输入将被归到单独的一类。  \n",
    "目的是为了避免多层if...else...的嵌套结构。  \n",
    "最初的应用场景是需要处理许多表格文件，但这些文件中的格式各不相同，需要人工观察格式并编写相应的处理代码，在处理了一部分文件后，再进行观察，看是否全部规律都被找出、是否全部文件都被正确处理。"
   ]
  },
  {
   "cell_type": "markdown",
   "metadata": {},
   "source": [
    "# 代码编写\n",
    "## 基础`class`: `Node`"
   ]
  },
  {
   "cell_type": "markdown",
   "metadata": {},
   "source": [
    "先定义一个最基础的节点`class`，包含`children`、`parent`和`name`属性，分别代表节点的输出和输入还有命名。  \n",
    "一个节点只有一个输入，但是可以有多个输出。"
   ]
  },
  {
   "cell_type": "code",
   "execution_count": 115,
   "metadata": {
    "collapsed": true
   },
   "outputs": [],
   "source": [
    "class Node():\n",
    "    def __init__(self,name):\n",
    "        self.children = []\n",
    "        self.parent = None\n",
    "        self.name = name\n",
    "   \n",
    "    def add_child(self, node):\n",
    "        self.children.append(node)\n",
    "        node.parent = self\n",
    "   \n",
    "    def get_children(self):\n",
    "        return self.children"
   ]
  },
  {
   "cell_type": "markdown",
   "metadata": {},
   "source": [
    "## 路由器`Router`"
   ]
  },
  {
   "cell_type": "markdown",
   "metadata": {},
   "source": [
    "除了继承了基础的`Node`的属性和方法外，`Router`还提供了`exit_mapping`属性，能够记录判定条件`tester`和满足条件下对应的`processor`。"
   ]
  },
  {
   "cell_type": "code",
   "execution_count": 180,
   "metadata": {
    "collapsed": true
   },
   "outputs": [],
   "source": [
    "class Router(Node):\n",
    "    def __init__(self, name, default_processor_func=None):\n",
    "        super().__init__(name)\n",
    "        self.exit_mapping = {}\n",
    "        self.default_processor = Processor('Uncategorized', default_processor_func)\n",
    "        self.add_child(self.default_processor)\n",
    "        self.default_processor.add_child(Collector('Uncategorized'))\n",
    "   \n",
    "    def add_processor(self, processor, tester):\n",
    "        self.exit_mapping[tester] = processor        \n",
    "        self.add_child(processor)\n",
    "        \n",
    "        return processor\n",
    "    \n",
    "    def add_router(self, router):\n",
    "        self.add_child(router)        \n",
    "        return router\n",
    "        \n",
    "    def do(self, data):\n",
    "        # find exit and process\n",
    "        for tester, processor in self.exit_mapping.items():\n",
    "            if tester(data):\n",
    "                processor.do(data)\n",
    "            else:\n",
    "                self.default_processor.do(data)\n",
    "                "
   ]
  },
  {
   "cell_type": "markdown",
   "metadata": {},
   "source": [
    "## 处理函数配置`Processor`"
   ]
  },
  {
   "cell_type": "markdown",
   "metadata": {},
   "source": [
    "除了继承了基础的`Node`的属性和方法外，`Processor`还提供了`process_func`属性来存储处理函数，并提供了`do`方法来执行处理函数`process_func`。  \n",
    "在`do`方法中，为什么`next_node`是`children`中的第一个？"
   ]
  },
  {
   "cell_type": "code",
   "execution_count": 181,
   "metadata": {
    "collapsed": true
   },
   "outputs": [],
   "source": [
    "class Processor(Node):\n",
    "    def __init__(self, name, process_func):\n",
    "        super().__init__(name)\n",
    "        self.process_func = process_func\n",
    "        \n",
    "    def add_processor(self, processor):\n",
    "        self.add_child(processor)        \n",
    "        return processor\n",
    "    \n",
    "    def add_router(self, router):\n",
    "        self.add_child(router)        \n",
    "        return router\n",
    "    \n",
    "    def add_collector(self, collector):\n",
    "        self.add_child(collector)\n",
    "        return collector   \n",
    "        \n",
    "    def do(self, data):\n",
    "        if self.process_func:\n",
    "            data = self.process_func(data)\n",
    "        \n",
    "        next_node = self.get_children()[0] # Processor has only 1 exit/child\n",
    "        if isinstance(next_node, Collector):\n",
    "            next_node.do(self.name, data)\n",
    "        else:\n",
    "            next_node.do(data)"
   ]
  },
  {
   "cell_type": "markdown",
   "metadata": {},
   "source": [
    "## 处理的最终节点`Collector`"
   ]
  },
  {
   "cell_type": "code",
   "execution_count": null,
   "metadata": {
    "collapsed": true
   },
   "outputs": [],
   "source": []
  },
  {
   "cell_type": "code",
   "execution_count": 182,
   "metadata": {
    "collapsed": true
   },
   "outputs": [],
   "source": [
    "class Collector(Node):    \n",
    "    def __init__(self, name):\n",
    "        super().__init__(name)\n",
    "        self.collection = {}\n",
    "\n",
    "    def do(self, name, data):\n",
    "        if name in self.collection:\n",
    "            self.collection[name].append(data)\n",
    "        else:\n",
    "            self.collection[name] = [data]"
   ]
  },
  {
   "cell_type": "markdown",
   "metadata": {},
   "source": [
    "## 管理工具`Manager`"
   ]
  },
  {
   "cell_type": "code",
   "execution_count": null,
   "metadata": {
    "collapsed": true
   },
   "outputs": [],
   "source": []
  },
  {
   "cell_type": "code",
   "execution_count": 183,
   "metadata": {
    "collapsed": true
   },
   "outputs": [],
   "source": [
    "class Manager:\n",
    "    def __init__(self, collector):\n",
    "        self.collector = collector\n",
    "        \n",
    "    def update(self):\n",
    "        self.collector.collection = {}"
   ]
  },
  {
   "cell_type": "markdown",
   "metadata": {},
   "source": [
    "# 运行"
   ]
  },
  {
   "cell_type": "code",
   "execution_count": 184,
   "metadata": {
    "ExecuteTime": {
     "end_time": "2017-05-11T08:56:11.698705Z",
     "start_time": "2017-05-11T08:56:11.481789Z"
    },
    "collapsed": false
   },
   "outputs": [
    {
     "data": {
      "text/plain": [
       "<__main__.Collector at 0x7f4db41f0438>"
      ]
     },
     "execution_count": 184,
     "metadata": {},
     "output_type": "execute_result"
    }
   ],
   "source": [
    "collector = Collector('collector')\n",
    "\n",
    "router = Router('odd_even')\n",
    "\n",
    "\n",
    "odd_processor = Processor('is_odd', None)\n",
    "even_processor = Processor('is_even', lambda x:x/2)\n",
    "devide3_processor = Processor('devide3', lambda x:x/3)\n",
    "# notdevide3_processor = Processor('devide3_not', None)\n",
    "\n",
    "\n",
    "router2 = (router.add_processor(odd_processor, lambda x:x%2==1)\n",
    "    .add_router(Router('devide3_ornot')))\n",
    "(\n",
    "    router2\n",
    "    .add_processor(devide3_processor, lambda x:x%3==0)\n",
    "    .add_collector(collector)\n",
    ")\n",
    "# (\n",
    "#     router2\n",
    "#     .add_processor(notdevide3_processor, lambda x:x%3!=0)\n",
    "#     .add_collector(collector)\n",
    "# )\n",
    "router.add_processor(even_processor, lambda x:x%2==0).add_collector(collector)            "
   ]
  },
  {
   "cell_type": "code",
   "execution_count": 185,
   "metadata": {
    "collapsed": false
   },
   "outputs": [
    {
     "data": {
      "text/plain": [
       "[<__main__.Collector at 0x7f4db428ac50>]"
      ]
     },
     "execution_count": 185,
     "metadata": {},
     "output_type": "execute_result"
    }
   ],
   "source": [
    "router.get_children()[0].get_children()"
   ]
  },
  {
   "cell_type": "code",
   "execution_count": 186,
   "metadata": {
    "collapsed": false
   },
   "outputs": [
    {
     "data": {
      "text/plain": [
       "{}"
      ]
     },
     "execution_count": 186,
     "metadata": {},
     "output_type": "execute_result"
    }
   ],
   "source": [
    "manager = Manager(collector)\n",
    "\n",
    "manager.update()\n",
    "\n",
    "collector.collection"
   ]
  },
  {
   "cell_type": "code",
   "execution_count": 187,
   "metadata": {
    "ExecuteTime": {
     "end_time": "2017-05-11T08:56:22.494686Z",
     "start_time": "2017-05-11T08:56:22.491474Z"
    },
    "collapsed": false
   },
   "outputs": [
    {
     "data": {
      "text/plain": [
       "{}"
      ]
     },
     "execution_count": 187,
     "metadata": {},
     "output_type": "execute_result"
    }
   ],
   "source": [
    "router.do(13)\n",
    "collector.collection"
   ]
  },
  {
   "cell_type": "code",
   "execution_count": 188,
   "metadata": {
    "ExecuteTime": {
     "end_time": "2017-05-11T08:56:22.494686Z",
     "start_time": "2017-05-11T08:56:22.491474Z"
    },
    "collapsed": false
   },
   "outputs": [
    {
     "data": {
      "text/plain": [
       "{'is_even': [7.0]}"
      ]
     },
     "execution_count": 188,
     "metadata": {},
     "output_type": "execute_result"
    }
   ],
   "source": [
    "router.do(14)\n",
    "collector.collection"
   ]
  },
  {
   "cell_type": "code",
   "execution_count": 189,
   "metadata": {
    "ExecuteTime": {
     "end_time": "2017-05-11T08:56:22.494686Z",
     "start_time": "2017-05-11T08:56:22.491474Z"
    },
    "collapsed": false
   },
   "outputs": [
    {
     "data": {
      "text/plain": [
       "{'devide3': [5.0], 'is_even': [7.0]}"
      ]
     },
     "execution_count": 189,
     "metadata": {},
     "output_type": "execute_result"
    }
   ],
   "source": [
    "router.do(15)\n",
    "collector.collection"
   ]
  },
  {
   "cell_type": "code",
   "execution_count": 190,
   "metadata": {
    "collapsed": false
   },
   "outputs": [
    {
     "data": {
      "text/plain": [
       "{'devide3': [5.0], 'is_even': [7.0]}"
      ]
     },
     "execution_count": 190,
     "metadata": {},
     "output_type": "execute_result"
    }
   ],
   "source": [
    "router.do(15.5)\n",
    "collector.collection"
   ]
  },
  {
   "cell_type": "code",
   "execution_count": 191,
   "metadata": {
    "collapsed": false
   },
   "outputs": [
    {
     "data": {
      "text/plain": [
       "{'Uncategorized': [13, 14, 15, 15.5, 15.5]}"
      ]
     },
     "execution_count": 191,
     "metadata": {},
     "output_type": "execute_result"
    }
   ],
   "source": [
    "router.default_processor.children[0].collection"
   ]
  },
  {
   "cell_type": "markdown",
   "metadata": {},
   "source": [
    "# 流程可视化"
   ]
  },
  {
   "cell_type": "code",
   "execution_count": 162,
   "metadata": {
    "ExecuteTime": {
     "end_time": "2017-05-11T08:56:23.378549Z",
     "start_time": "2017-05-11T08:56:23.375558Z"
    },
    "collapsed": true
   },
   "outputs": [],
   "source": [
    "from IPython.display import display, Image"
   ]
  },
  {
   "cell_type": "code",
   "execution_count": 163,
   "metadata": {
    "ExecuteTime": {
     "end_time": "2017-05-11T08:56:29.595276Z",
     "start_time": "2017-05-11T08:56:29.522494Z"
    },
    "collapsed": false
   },
   "outputs": [
    {
     "data": {
      "image/png": "[encoded data removed]",
      "text/plain": [
       "<IPython.core.display.Image object>"
      ]
     },
     "metadata": {},
     "output_type": "display_data"
    }
   ],
   "source": [
    "from graphviz import Graph\n",
    "\n",
    "g = Graph('G', filename='process.gv', engine='dot', format='png')\n",
    "\n",
    "def connect_edge(node, g):\n",
    "    if node.children:\n",
    "        for node_child in node.children:\n",
    "            g.edge(node.name, node_child.name)\n",
    "            connect_edge(node_child, g)\n",
    "    return g\n",
    "\n",
    "g = connect_edge(router, g)\n",
    "display(Image(g.render()))"
   ]
  },
  {
   "cell_type": "code",
   "execution_count": null,
   "metadata": {
    "collapsed": true
   },
   "outputs": [],
   "source": []
  }
 ],
 "metadata": {
  "hide_input": false,
  "kernelspec": {
   "display_name": "Python 3",
   "language": "python",
   "name": "python3"
  },
  "language_info": {
   "codemirror_mode": {
    "name": "ipython",
    "version": 3
   },
   "file_extension": ".py",
   "mimetype": "text/x-python",
   "name": "python",
   "nbconvert_exporter": "python",
   "pygments_lexer": "ipython3",
   "version": "3.5.2"
  },
  "toc": {
   "colors": {
    "hover_highlight": "#DAA520",
    "running_highlight": "#FF0000",
    "selected_highlight": "#FFD700"
   },
   "moveMenuLeft": true,
   "nav_menu": {
    "height": "12px",
    "width": "252px"
   },
   "navigate_menu": true,
   "number_sections": true,
   "sideBar": true,
   "threshold": 4,
   "toc_cell": false,
   "toc_position": {
    "height": "704px",
    "left": "0px",
    "right": "1301px",
    "top": "106px",
    "width": "242px"
   },
   "toc_section_display": "block",
   "toc_window_display": true
  }
 },
 "nbformat": 4,
 "nbformat_minor": 2
}
