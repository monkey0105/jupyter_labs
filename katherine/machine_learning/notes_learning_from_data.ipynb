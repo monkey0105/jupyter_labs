{
 "cells": [
  {
   "cell_type": "markdown",
   "metadata": {},
   "source": [
    "# Learning From Data\n",
    "## 上册\n",
    "|Week|Plan Date|Chapter|Contents|Memo|Real Date|\n",
    "|--|--|--|--|--|--|\n",
    "|Week 1|20161219-20161223|Chapter 1 The Learning Problem|1.1 Problem Setup<br>1.2 Types of Learning<br>1.3 Is Learning Feasible?<br>1.4 Error and Noise|一天一个子章节，<br>周五查漏补缺||\n",
    "|Week 2|20161226-20161231|Chapter 2 Training vs Testing|2.1 Theory of Generalization<br>2.2 Interpreting the Generalization Bound<br>2.3 Approximation-Generalization Tradeoff|一天一个子章节，<br>周四查漏补缺，<br>周五复习两章||\n",
    "|Week 3|20170102-20170106|Chapter 3 The Linear Model|3.1 Linear Classification<br>3.2 Linear Regression<br>3.3 Logistic Regression<br>3.4 Nonlinear Transformation|同上||\n",
    "|Week 4|20170109-20170113|Chapter 4 Overfitting|4.1 When Does Overfitting Occur?<br>4.2 Regularization<br>4.3 Validation|同上||\n",
    "|Week 5|20170116-20170120|Chapter 5 Three Learning Principles|5.1 Occam's Razor<br>5.2 Sampling Bias<br>5.3 Data Snooping|同上||"
   ]
  },
  {
   "cell_type": "markdown",
   "metadata": {},
   "source": [
    "## 1.1 Problem Setup\n",
    "\n",
    "* 现实中有非常多的领域和问题应用到了“从数据中学习”的技术。最常见的例子有：\n",
    "    * 个性化推荐系统，e.g.淘宝、豆瓣：“你可能喜欢……”\n",
    "    * 信用卡申请自动审批系统，e.g.快速放贷系统\n",
    "    * 垃圾邮件识别系统\n",
    "\n",
    "\n",
    "* __perceptron learning algorithm (PLA)__\n",
    "\n",
    "    * Formula: $$h(x)=sign(w^Tx)$$\n",
    "\n",
    "    * Update rule（只取判断出错的情况）: $$w(t+1)=w(t)+y(t)x(t)$$\n",
    "\n",
    "    * __?__  \n",
    "    $y(t)$是判断错误的情况对应的真实的结果。  \n",
    "    二维情况下，$w(t)$是直线$h(x)$的法向量，$x(t)$是从原点出发到点$x(t)$的方向向量。  \n",
    "        * 当$y(t)=w(t)x(t)=+1$时，判断错误，即$w(t)$和$x(t)$的夹角过大，大于90度，应该减小，则$w(t+1)=w(t)+x(t)$。\n",
    "        * 当$y(t)=w(t)x(t)=-1$时，判断错误，即$w(t)$和$x(t)$的夹角过小，小于90度，应该增大，则$w(t+1)=w(t)-x(t)$。\n",
    "\n",
    "\n",
    "* __区分learning和designing__\n",
    "\n",
    "    Only __the learning approach is possible__ in many applications where __the target function is unknown__.\n",
    "\n",
    "||Learning|Design|\n",
    "|--|--|--|\n",
    "|1|Learning is based on data|Design does not use data|\n",
    "|2|Problem is not quite specified|Problem is well specified|\n",
    "|3|One needs data to pin down what $f$ is|One can analytically derive $f$ without the need to see any data|"
   ]
  },
  {
   "cell_type": "markdown",
   "metadata": {},
   "source": [
    "## 1.2 Types of Learning"
   ]
  },
  {
   "cell_type": "markdown",
   "metadata": {},
   "source": [
    "|Chapter|Types of Learning|Description|\n",
    "|--|--|--|\n",
    "|1.2.1|Supervised Learning|The learning is supervised in the sense that some 'supervisor' has taken the trouble to look at each input.|\n",
    "|1.2.2|Reinforcement Learning|The training example doesn't contain the target output, but instead contains some possible output together with a measure of how good that output is.|\n",
    "|1.2.3|Unsupervised Learning|The training data does not contain any output information at all.|"
   ]
  },
  {
   "cell_type": "markdown",
   "metadata": {
    "collapsed": true
   },
   "source": [
    "### 1.2.1 Supervised Learning\n",
    "\n",
    "* Active Learning\n",
    "* Online Learning"
   ]
  },
  {
   "cell_type": "markdown",
   "metadata": {
    "collapsed": true
   },
   "source": [
    "### 1.2.4 Other Views of Learning\n",
    "|No.|Views of Learning|Description|\n",
    "|--|--|--|\n",
    "|1|Statistics|Statistics focuses on somewhat idealized models and analyzes them in great detail.<br>Machine learning make less restrictive assumptions and deal with more general models.|\n",
    "|2|Data mining|Data mining is a practical field that focuses on finding patterns, correlations, or anomalies in large relational databases.<br>Data mining focuses more on |"
   ]
  }
 ],
 "metadata": {
  "kernelspec": {
   "display_name": "Python 3",
   "language": "python",
   "name": "python3"
  },
  "language_info": {
   "codemirror_mode": {
    "name": "ipython",
    "version": 3
   },
   "file_extension": ".py",
   "mimetype": "text/x-python",
   "name": "python",
   "nbconvert_exporter": "python",
   "pygments_lexer": "ipython3",
   "version": "3.5.2"
  }
 },
 "nbformat": 4,
 "nbformat_minor": 1
}
