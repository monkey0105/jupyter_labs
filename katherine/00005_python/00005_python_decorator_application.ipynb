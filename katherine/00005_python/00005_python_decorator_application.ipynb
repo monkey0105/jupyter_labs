{
 "cells": [
  {
   "cell_type": "markdown",
   "metadata": {},
   "source": [
    "# python装饰器的应用\n",
    "\n",
    "## 情景描述\n",
    "\n",
    "有一个函数，存在一定概率会运行失败。"
   ]
  },
  {
   "cell_type": "code",
   "execution_count": 3,
   "metadata": {
    "collapsed": true
   },
   "outputs": [],
   "source": [
    "def prob_fail():\n",
    "    from random import randint\n",
    "    if randint(0,100) < 20:\n",
    "        print('Succeed')\n",
    "    else:\n",
    "        print('Fail')\n",
    "        raise Exception"
   ]
  },
  {
   "cell_type": "code",
   "execution_count": 4,
   "metadata": {
    "collapsed": false,
    "scrolled": true
   },
   "outputs": [
    {
     "name": "stdout",
     "output_type": "stream",
     "text": [
      "Fail\n"
     ]
    },
    {
     "ename": "Exception",
     "evalue": "",
     "output_type": "error",
     "traceback": [
      "\u001b[0;31m---------------------------------------------------------------------------\u001b[0m",
      "\u001b[0;31mException\u001b[0m                                 Traceback (most recent call last)",
      "\u001b[0;32m<ipython-input-4-f3c46ba59b44>\u001b[0m in \u001b[0;36m<module>\u001b[0;34m()\u001b[0m\n\u001b[0;32m----> 1\u001b[0;31m \u001b[0mprob_fail\u001b[0m\u001b[0;34m(\u001b[0m\u001b[0;34m)\u001b[0m\u001b[0;34m\u001b[0m\u001b[0m\n\u001b[0m",
      "\u001b[0;32m<ipython-input-3-6bdb0df19324>\u001b[0m in \u001b[0;36mprob_fail\u001b[0;34m()\u001b[0m\n\u001b[1;32m      5\u001b[0m     \u001b[0;32melse\u001b[0m\u001b[0;34m:\u001b[0m\u001b[0;34m\u001b[0m\u001b[0m\n\u001b[1;32m      6\u001b[0m         \u001b[0mprint\u001b[0m\u001b[0;34m(\u001b[0m\u001b[0;34m'Fail'\u001b[0m\u001b[0;34m)\u001b[0m\u001b[0;34m\u001b[0m\u001b[0m\n\u001b[0;32m----> 7\u001b[0;31m         \u001b[0;32mraise\u001b[0m \u001b[0mException\u001b[0m\u001b[0;34m\u001b[0m\u001b[0m\n\u001b[0m",
      "\u001b[0;31mException\u001b[0m: "
     ]
    }
   ],
   "source": [
    "prob_fail()"
   ]
  },
  {
   "cell_type": "code",
   "execution_count": 9,
   "metadata": {
    "collapsed": false,
    "scrolled": true
   },
   "outputs": [
    {
     "name": "stdout",
     "output_type": "stream",
     "text": [
      "Succeed\n"
     ]
    }
   ],
   "source": [
    "prob_fail()"
   ]
  },
  {
   "cell_type": "markdown",
   "metadata": {},
   "source": [
    "## 希望能达到的效果是，在函数运行失败时自动重试。\n",
    "### 不用装饰器也可实现"
   ]
  },
  {
   "cell_type": "code",
   "execution_count": 10,
   "metadata": {
    "collapsed": false
   },
   "outputs": [
    {
     "name": "stdout",
     "output_type": "stream",
     "text": [
      "Fail\n",
      "Retrying. \n",
      "Fail\n",
      "Retrying. \n",
      "Fail\n",
      "Retrying. \n",
      "Fail\n",
      "Retrying. \n",
      "Fail\n",
      "Retrying. \n",
      "Fail\n",
      "Retrying. \n",
      "Succeed\n"
     ]
    }
   ],
   "source": [
    "while True:\n",
    "    try:\n",
    "        prob_fail()\n",
    "        break\n",
    "    except Exception as e:\n",
    "        print('Retrying. ')"
   ]
  },
  {
   "cell_type": "markdown",
   "metadata": {},
   "source": [
    "### 若多个函数都想实现此功能，用装饰器更方便\n",
    "装饰器的特征：\n",
    "* Closure 闭包函数\n",
    "* 外层函数的参数只有一个，且是需要被装饰的函数"
   ]
  },
  {
   "cell_type": "code",
   "execution_count": 11,
   "metadata": {
    "collapsed": true
   },
   "outputs": [],
   "source": [
    "def decorator(func):\n",
    "    def inner():\n",
    "        while True:\n",
    "            try:\n",
    "                return func()\n",
    "            except Exception as e:\n",
    "                print('Retrying. ')\n",
    "    return inner\n",
    "\n",
    "@decorator\n",
    "def prob_fail():\n",
    "    from random import randint\n",
    "    if randint(0,100) < 20:\n",
    "        print('Succeed')\n",
    "    else:\n",
    "        print('Fail')\n",
    "        raise Exception"
   ]
  },
  {
   "cell_type": "markdown",
   "metadata": {},
   "source": [
    "__之后只要直接调用函数本身即可。__"
   ]
  },
  {
   "cell_type": "code",
   "execution_count": 13,
   "metadata": {
    "collapsed": false
   },
   "outputs": [
    {
     "name": "stdout",
     "output_type": "stream",
     "text": [
      "Fail\n",
      "Retrying. \n",
      "Fail\n",
      "Retrying. \n",
      "Fail\n",
      "Retrying. \n",
      "Fail\n",
      "Retrying. \n",
      "Fail\n",
      "Retrying. \n",
      "Fail\n",
      "Retrying. \n",
      "Fail\n",
      "Retrying. \n",
      "Fail\n",
      "Retrying. \n",
      "Fail\n",
      "Retrying. \n",
      "Fail\n",
      "Retrying. \n",
      "Fail\n",
      "Retrying. \n",
      "Succeed\n"
     ]
    }
   ],
   "source": [
    "prob_fail()"
   ]
  },
  {
   "cell_type": "markdown",
   "metadata": {},
   "source": [
    "### 若函数本身有参数，则需要在inner函数中补齐参数设置，以满足不同函数的调用需求"
   ]
  },
  {
   "cell_type": "code",
   "execution_count": 14,
   "metadata": {
    "collapsed": true
   },
   "outputs": [],
   "source": [
    "def decorator(func):\n",
    "    def inner(*args, **kargs):\n",
    "        while True:\n",
    "            try:\n",
    "                return func(*args, **kargs)\n",
    "            except Exception as e:\n",
    "                print('Retrying. ')\n",
    "    return inner"
   ]
  },
  {
   "cell_type": "markdown",
   "metadata": {},
   "source": [
    "### 若想要在装饰器中增加别的参数以实现更多控制，则需要再包一层函数\n",
    "\n",
    "此处设置了__最大重试次数(max_retry_n)__和__重试等待时间(retry_wait_arg)__的控制。  \n",
    "若超过__最大重试次数__，则抛出MaxRetryNumError，这是Exception类的一个子类。"
   ]
  },
  {
   "cell_type": "code",
   "execution_count": 15,
   "metadata": {
    "collapsed": true
   },
   "outputs": [],
   "source": [
    "class MaxRetryNumError(Exception):\n",
    "    pass\n",
    "\n",
    "def retry_control(max_retry_n, retry_wait_arg):\n",
    "    from time import sleep\n",
    "    def decorator(func):\n",
    "        def inner(*args, **kargs):\n",
    "            i = 0\n",
    "            while True:\n",
    "                try:\n",
    "                    return func(*args, **kargs)\n",
    "\n",
    "                except Exception as e:\n",
    "                    wait_sec = retry_wait_arg*(i**2)\n",
    "                    print('Wait {} seconds before retrying. '.format(wait_sec))\n",
    "                    sleep(wait_sec)\n",
    "\n",
    "                i += 1\n",
    "                if i > max_retry_n:\n",
    "                    raise MaxRetryNumError('Reach the Max Retry Number: {}! '.format(max_retry_n))\n",
    "                print('Retry Time {}'.format(i))\n",
    "\n",
    "        return inner\n",
    "    return decorator"
   ]
  },
  {
   "cell_type": "code",
   "execution_count": 16,
   "metadata": {
    "collapsed": true
   },
   "outputs": [],
   "source": [
    "@retry_control(3, 3)\n",
    "def prob_fail():\n",
    "    from random import randint\n",
    "    if randint(0,100) < 20:\n",
    "        print('Succeed')\n",
    "    else:\n",
    "        print('Fail')\n",
    "        raise Exception"
   ]
  },
  {
   "cell_type": "code",
   "execution_count": 18,
   "metadata": {
    "collapsed": false,
    "scrolled": true
   },
   "outputs": [
    {
     "name": "stdout",
     "output_type": "stream",
     "text": [
      "Fail\n",
      "Wait 0 seconds before retrying. \n",
      "Retry Time 1\n",
      "Fail\n",
      "Wait 3 seconds before retrying. \n",
      "Retry Time 2\n",
      "Fail\n",
      "Wait 12 seconds before retrying. \n",
      "Retry Time 3\n",
      "Fail\n",
      "Wait 27 seconds before retrying. \n"
     ]
    },
    {
     "ename": "MaxRetryNumError",
     "evalue": "Reach the Max Retry Number: 3! ",
     "output_type": "error",
     "traceback": [
      "\u001b[0;31m---------------------------------------------------------------------------\u001b[0m",
      "\u001b[0;31mMaxRetryNumError\u001b[0m                          Traceback (most recent call last)",
      "\u001b[0;32m<ipython-input-18-f3c46ba59b44>\u001b[0m in \u001b[0;36m<module>\u001b[0;34m()\u001b[0m\n\u001b[0;32m----> 1\u001b[0;31m \u001b[0mprob_fail\u001b[0m\u001b[0;34m(\u001b[0m\u001b[0;34m)\u001b[0m\u001b[0;34m\u001b[0m\u001b[0m\n\u001b[0m",
      "\u001b[0;32m<ipython-input-15-b95d7b9d96bc>\u001b[0m in \u001b[0;36minner\u001b[0;34m(*args, **kargs)\u001b[0m\n\u001b[1;32m     18\u001b[0m                 \u001b[0mi\u001b[0m \u001b[0;34m+=\u001b[0m \u001b[0;36m1\u001b[0m\u001b[0;34m\u001b[0m\u001b[0m\n\u001b[1;32m     19\u001b[0m                 \u001b[0;32mif\u001b[0m \u001b[0mi\u001b[0m \u001b[0;34m>\u001b[0m \u001b[0mmax_retry_n\u001b[0m\u001b[0;34m:\u001b[0m\u001b[0;34m\u001b[0m\u001b[0m\n\u001b[0;32m---> 20\u001b[0;31m                     \u001b[0;32mraise\u001b[0m \u001b[0mMaxRetryNumError\u001b[0m\u001b[0;34m(\u001b[0m\u001b[0;34m'Reach the Max Retry Number: {}! '\u001b[0m\u001b[0;34m.\u001b[0m\u001b[0mformat\u001b[0m\u001b[0;34m(\u001b[0m\u001b[0mmax_retry_n\u001b[0m\u001b[0;34m)\u001b[0m\u001b[0;34m)\u001b[0m\u001b[0;34m\u001b[0m\u001b[0m\n\u001b[0m\u001b[1;32m     21\u001b[0m                 \u001b[0mprint\u001b[0m\u001b[0;34m(\u001b[0m\u001b[0;34m'Retry Time {}'\u001b[0m\u001b[0;34m.\u001b[0m\u001b[0mformat\u001b[0m\u001b[0;34m(\u001b[0m\u001b[0mi\u001b[0m\u001b[0;34m)\u001b[0m\u001b[0;34m)\u001b[0m\u001b[0;34m\u001b[0m\u001b[0m\n\u001b[1;32m     22\u001b[0m \u001b[0;34m\u001b[0m\u001b[0m\n",
      "\u001b[0;31mMaxRetryNumError\u001b[0m: Reach the Max Retry Number: 3! "
     ]
    }
   ],
   "source": [
    "prob_fail()"
   ]
  }
 ],
 "metadata": {
  "kernelspec": {
   "display_name": "Python 3",
   "language": "python",
   "name": "python3"
  },
  "language_info": {
   "codemirror_mode": {
    "name": "ipython",
    "version": 3
   },
   "file_extension": ".py",
   "mimetype": "text/x-python",
   "name": "python",
   "nbconvert_exporter": "python",
   "pygments_lexer": "ipython3",
   "version": "3.5.2"
  }
 },
 "nbformat": 4,
 "nbformat_minor": 1
}
