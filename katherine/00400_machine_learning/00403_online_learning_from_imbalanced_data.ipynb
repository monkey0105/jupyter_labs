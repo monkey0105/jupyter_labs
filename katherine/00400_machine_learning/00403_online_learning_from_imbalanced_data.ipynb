{
 "cells": [
  {
   "cell_type": "markdown",
   "metadata": {
    "toc": "true"
   },
   "source": [
    "# Table of Contents\n",
    " <p><div class=\"lev2 toc-item\"><a href=\"#A-Learning-Framework-for-Online-Class-Imbalance-Learning\" data-toc-modified-id=\"A-Learning-Framework-for-Online-Class-Imbalance-Learning-01\"><span class=\"toc-item-num\">0.1&nbsp;&nbsp;</span>A Learning Framework for Online Class Imbalance Learning</a></div><div class=\"lev3 toc-item\"><a href=\"#Framework\" data-toc-modified-id=\"Framework-011\"><span class=\"toc-item-num\">0.1.1&nbsp;&nbsp;</span>Framework</a></div><div class=\"lev3 toc-item\"><a href=\"#Learning-Objective\" data-toc-modified-id=\"Learning-Objective-012\"><span class=\"toc-item-num\">0.1.2&nbsp;&nbsp;</span>Learning Objective</a></div>"
   ]
  },
  {
   "cell_type": "markdown",
   "metadata": {},
   "source": [
    "## A Learning Framework for Online Class Imbalance Learning"
   ]
  },
  {
   "cell_type": "markdown",
   "metadata": {},
   "source": [
    "Online learning can be considered as a particular case of incremental learning in which the buffer size is set to one for batch processing. "
   ]
  },
  {
   "cell_type": "markdown",
   "metadata": {},
   "source": [
    "### Framework"
   ]
  },
  {
   "cell_type": "markdown",
   "metadata": {
    "collapsed": true
   },
   "source": [
    "online processing, class imbalance and concept drift. \n",
    "The framework decomposes the learning task into three modules:\n",
    "* __a class imbalance detector__ to capture the current class imbalance status; \n",
    "* __a concept drift detector__ to find out whether the concept drift occurs; \n",
    "* __an adaptive online learner__ to learn the data stream and take corresponding actions when class imbalance and concept drift happen. \n"
   ]
  },
  {
   "cell_type": "markdown",
   "metadata": {},
   "source": [
    "### Learning Objective"
   ]
  },
  {
   "cell_type": "markdown",
   "metadata": {},
   "source": [
    "Its learning objective can be generally described as  \n",
    "“obtaining a classifier that will provide high accuracy for the minority class  \n",
    "without severely jeopardizing the accuracy of the majority class”.\n"
   ]
  },
  {
   "cell_type": "markdown",
   "metadata": {},
   "source": [
    "Generally speaking, the objective of online class imbalance learning can be described as  \n",
    "“developing adaptive online learning methods that can identify minority-class data effectively and timely \n",
    "without sacrificing the performance on the majority class”.  \n",
    "\n",
    "Three important characteristics are desirable for a good solution: \n",
    "1. accuracy – predict the minority class accurately; \n",
    "2. efficiency – give timely response; \n",
    "3. adaptivity handle nonstationary environments. "
   ]
  },
  {
   "cell_type": "markdown",
   "metadata": {},
   "source": [
    "1. "
   ]
  }
 ],
 "metadata": {
  "kernelspec": {
   "display_name": "Python 3",
   "language": "python",
   "name": "python3"
  },
  "language_info": {
   "codemirror_mode": {
    "name": "ipython",
    "version": 3
   },
   "file_extension": ".py",
   "mimetype": "text/x-python",
   "name": "python",
   "nbconvert_exporter": "python",
   "pygments_lexer": "ipython3",
   "version": "3.5.2"
  },
  "toc": {
   "colors": {
    "hover_highlight": "#DAA520",
    "running_highlight": "#FF0000",
    "selected_highlight": "#FFD700"
   },
   "moveMenuLeft": true,
   "nav_menu": {
    "height": "78px",
    "width": "252px"
   },
   "navigate_menu": true,
   "number_sections": true,
   "sideBar": true,
   "threshold": 4,
   "toc_cell": true,
   "toc_section_display": "block",
   "toc_window_display": true
  }
 },
 "nbformat": 4,
 "nbformat_minor": 1
}
