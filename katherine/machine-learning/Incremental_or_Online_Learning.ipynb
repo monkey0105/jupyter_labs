{
 "cells": [
  {
   "cell_type": "markdown",
   "metadata": {},
   "source": [
    "### 以下是最近查到的一些关于online learning的文档及应用示例，供查阅。具体应用过程中，有很多参数需要调整。"
   ]
  },
  {
   "cell_type": "markdown",
   "metadata": {},
   "source": [
    "# Documentation"
   ]
  },
  {
   "cell_type": "markdown",
   "metadata": {},
   "source": [
    "https://en.wikipedia.org/wiki/Online_machine_learning\n",
    "\n",
    "http://scikit-learn.org/stable/modules/feature_extraction.html\n",
    "\n",
    "#### sklearn classes list\n",
    "http://scikit-learn.org/stable/modules/classes.html"
   ]
  },
  {
   "cell_type": "markdown",
   "metadata": {},
   "source": [
    "0.  Preprocessing\n",
    "\n",
    "    1. http://scikit-learn.org/stable/modules/preprocessing.html\n",
    "    \n",
    "1.  partial_fit\n",
    "\n",
    "    1. Introduction: **http://scikit-learn.org/stable/modules/scaling_strategies.html**\n",
    "\n",
    "    2. Example: http://scikit-learn.org/stable/auto_examples/cluster/plot_dict_face_patches.html\n",
    "\n",
    "2.  grid search\n",
    "\n",
    "    1. http://scikit-learn.org/stable/modules/grid_search.html#grid-search\n",
    "\n",
    "2.  pipline\n",
    "\n",
    "    1. Definition: \n",
    "    \n",
    "        1. http://scikit-learn.org/stable/modules/pipeline.html#pipeline\n",
    "        \n",
    "        2. http://scikit-learn.org/stable/modules/generated/sklearn.pipeline.Pipeline.html\n",
    "    \n",
    "    2. Example: http://scikit-learn.org/stable/auto_examples/plot_digits_pipe.html\n",
    "\n",
    "3. other subjects\n",
    "\n",
    "    1. numpy.memper: http://stackoverflow.com/questions/16149803/working-with-big-data-in-python-and-numpy-not-enough-ram-how-to-save-partial-r?lq=1\n",
    "    \n",
    "    2. kernel_approximation: http://scikit-learn.org/stable/modules/kernel_approximation.html"
   ]
  },
  {
   "cell_type": "markdown",
   "metadata": {},
   "source": [
    "## Stochastic Gradient Descent\n",
    "\n",
    "Stochastic Gradient Descent (SGD) is a simple yet very efficient approach to discriminative learning of linear classifiers under convex loss functions such as (linear) Support Vector Machines and Logistic Regression. Even though SGD has been around in the machine learning community for a long time, it has received a considerable amount of attention just recently in the context of large-scale learning.\n",
    "\n",
    "SGD has been successfully applied to large-scale and sparse machine learning problems often encountered in text classification and natural language processing. Given that the data is sparse, the classifiers in this module easily scale to problems with more than 10^5 training examples and more than 10^5 features.\n",
    "\n",
    "The advantages of Stochastic Gradient Descent are:\n",
    "\n",
    "        Efficiency.\n",
    "        Ease of implementation (lots of opportunities for code tuning).\n",
    "\n",
    "The disadvantages of Stochastic Gradient Descent include:\n",
    "\n",
    "        SGD requires a number of hyperparameters such as the regularization parameter and the number of iterations.\n",
    "        SGD is sensitive to feature scaling.\n",
    "\n",
    "https://www.packtpub.com/books/content/machine-learning-0"
   ]
  },
  {
   "cell_type": "markdown",
   "metadata": {},
   "source": [
    "## Logistic Regression\n",
    "\n",
    "http://scikit-learn.org/stable/modules/linear_model.html\n",
    "\n",
    "http://scikit-learn.org/stable/modules/sgd.html#sgd\n",
    "\n",
    "The concrete loss function can be set via the loss parameter. SGDClassifier supports the following loss functions:\n",
    "\n",
    "        loss=\"hinge\": (soft-margin) linear Support Vector Machine,\n",
    "        loss=\"modified_huber\": smoothed hinge loss,\n",
    "        loss=\"log\": logistic regression,\n",
    "        and all regression losses below.\n"
   ]
  },
  {
   "cell_type": "markdown",
   "metadata": {},
   "source": [
    "## Neural Network\n",
    "\n",
    "1. Introduction: http://pages.cs.wisc.edu/~bolo/shipyard/neural/local.html"
   ]
  },
  {
   "cell_type": "code",
   "execution_count": 201,
   "metadata": {
    "collapsed": false
   },
   "outputs": [
    {
     "ename": "ImportError",
     "evalue": "cannot import name 'MLPClassifier'",
     "output_type": "error",
     "traceback": [
      "\u001b[1;31m---------------------------------------------------------------------------\u001b[0m",
      "\u001b[1;31mImportError\u001b[0m                               Traceback (most recent call last)",
      "\u001b[1;32m<ipython-input-201-4523dba30c8c>\u001b[0m in \u001b[0;36m<module>\u001b[1;34m()\u001b[0m\n\u001b[0;32m      1\u001b[0m \u001b[1;31m# sklearn development version\u001b[0m\u001b[1;33m\u001b[0m\u001b[1;33m\u001b[0m\u001b[0m\n\u001b[1;32m----> 2\u001b[1;33m \u001b[1;32mfrom\u001b[0m \u001b[0msklearn\u001b[0m\u001b[1;33m.\u001b[0m\u001b[0mneural_network\u001b[0m \u001b[1;32mimport\u001b[0m \u001b[0mMLPClassifier\u001b[0m\u001b[1;33m\u001b[0m\u001b[0m\n\u001b[0m\u001b[0;32m      3\u001b[0m \u001b[1;33m\u001b[0m\u001b[0m\n\u001b[0;32m      4\u001b[0m \u001b[0mclf\u001b[0m \u001b[1;33m=\u001b[0m \u001b[0mMLPClassifier\u001b[0m\u001b[1;33m(\u001b[0m\u001b[1;33m)\u001b[0m\u001b[1;33m\u001b[0m\u001b[0m\n\u001b[0;32m      5\u001b[0m \u001b[1;33m\u001b[0m\u001b[0m\n",
      "\u001b[1;31mImportError\u001b[0m: cannot import name 'MLPClassifier'"
     ]
    }
   ],
   "source": [
    "# sklearn development version\n",
    "from sklearn.neural_network import MLPClassifier\n",
    "\n",
    "clf = MLPClassifier()\n",
    "\n",
    "clf.partial_fit([[1],[2],[3]],[\"a\", \"b\", \"c\"], classes=[\"a\", \"b\", \"c\", \"d\"])\n",
    "\n",
    "clf.partial_fit([[4]],[\"d\"])"
   ]
  },
  {
   "cell_type": "markdown",
   "metadata": {},
   "source": [
    "## XGBOOST\n",
    "\n",
    "1. Introduction\n",
    "\n",
    "    1. http://cos.name/2015/03/xgboost/\n",
    "\n",
    "    2. https://github.com/dmlc/xgboost\n",
    "\n",
    "2. Online learning\n",
    "\n",
    "    1. http://stackoverflow.com/questions/38079853/how-can-i-implement-incremental-training-for-xgboost?rq=1"
   ]
  },
  {
   "cell_type": "markdown",
   "metadata": {},
   "source": [
    "## Random Forest\n",
    "### sklearn\n",
    "\n",
    "http://scikit-learn.org/stable/modules/ensemble.html#forests-of-randomized-trees\n",
    "\n",
    "http://scikit-learn.org/stable/modules/generated/sklearn.ensemble.RandomForestClassifier.html#sklearn.ensemble.RandomForestClassifier\n",
    "\n",
    "no partial_fit method\n",
    "\n",
    "### Incremental Random Forest\n",
    "https://github.com/pconstr/irf"
   ]
  },
  {
   "cell_type": "markdown",
   "metadata": {},
   "source": [
    "# Model Persistence\n",
    "http://scikit-learn.org/stable/modules/model_persistence.html"
   ]
  },
  {
   "cell_type": "markdown",
   "metadata": {},
   "source": [
    "# Example - Logistic Regression"
   ]
  },
  {
   "cell_type": "code",
   "execution_count": 1,
   "metadata": {
    "collapsed": true
   },
   "outputs": [],
   "source": [
    "import pandas as pd\n",
    "import numpy as np\n",
    "from sklearn import linear_model, cross_validation\n",
    "# from sklearn.linear_model import SGDClassifier"
   ]
  },
  {
   "cell_type": "code",
   "execution_count": 2,
   "metadata": {
    "collapsed": false
   },
   "outputs": [
    {
     "data": {
      "text/html": [
       "<div>\n",
       "<table border=\"1\" class=\"dataframe\">\n",
       "  <thead>\n",
       "    <tr style=\"text-align: right;\">\n",
       "      <th></th>\n",
       "      <th>admit</th>\n",
       "      <th>gre</th>\n",
       "      <th>gpa</th>\n",
       "      <th>rank</th>\n",
       "    </tr>\n",
       "  </thead>\n",
       "  <tbody>\n",
       "    <tr>\n",
       "      <th>0</th>\n",
       "      <td>0</td>\n",
       "      <td>380</td>\n",
       "      <td>3.61</td>\n",
       "      <td>3</td>\n",
       "    </tr>\n",
       "    <tr>\n",
       "      <th>1</th>\n",
       "      <td>1</td>\n",
       "      <td>660</td>\n",
       "      <td>3.67</td>\n",
       "      <td>3</td>\n",
       "    </tr>\n",
       "    <tr>\n",
       "      <th>2</th>\n",
       "      <td>1</td>\n",
       "      <td>800</td>\n",
       "      <td>4.00</td>\n",
       "      <td>1</td>\n",
       "    </tr>\n",
       "    <tr>\n",
       "      <th>3</th>\n",
       "      <td>1</td>\n",
       "      <td>640</td>\n",
       "      <td>3.19</td>\n",
       "      <td>4</td>\n",
       "    </tr>\n",
       "    <tr>\n",
       "      <th>4</th>\n",
       "      <td>0</td>\n",
       "      <td>520</td>\n",
       "      <td>2.93</td>\n",
       "      <td>4</td>\n",
       "    </tr>\n",
       "  </tbody>\n",
       "</table>\n",
       "</div>"
      ],
      "text/plain": [
       "   admit  gre   gpa  rank\n",
       "0      0  380  3.61     3\n",
       "1      1  660  3.67     3\n",
       "2      1  800  4.00     1\n",
       "3      1  640  3.19     4\n",
       "4      0  520  2.93     4"
      ]
     },
     "execution_count": 2,
     "metadata": {},
     "output_type": "execute_result"
    }
   ],
   "source": [
    "df = pd.read_csv(\"http://www.ats.ucla.edu/stat/data/binary.csv\")\n",
    "df.head()"
   ]
  },
  {
   "cell_type": "code",
   "execution_count": 3,
   "metadata": {
    "collapsed": false
   },
   "outputs": [
    {
     "data": {
      "text/plain": [
       "0    273\n",
       "1    127\n",
       "Name: admit, dtype: int64"
      ]
     },
     "execution_count": 3,
     "metadata": {},
     "output_type": "execute_result"
    }
   ],
   "source": [
    "df['admit'].value_counts()"
   ]
  },
  {
   "cell_type": "code",
   "execution_count": 4,
   "metadata": {
    "collapsed": false
   },
   "outputs": [
    {
     "data": {
      "text/html": [
       "<div>\n",
       "<table border=\"1\" class=\"dataframe\">\n",
       "  <thead>\n",
       "    <tr style=\"text-align: right;\">\n",
       "      <th></th>\n",
       "      <th>admit</th>\n",
       "      <th>gre</th>\n",
       "      <th>gpa</th>\n",
       "      <th>rank</th>\n",
       "    </tr>\n",
       "  </thead>\n",
       "  <tbody>\n",
       "    <tr>\n",
       "      <th>count</th>\n",
       "      <td>400.000000</td>\n",
       "      <td>400.000000</td>\n",
       "      <td>400.000000</td>\n",
       "      <td>400.00000</td>\n",
       "    </tr>\n",
       "    <tr>\n",
       "      <th>mean</th>\n",
       "      <td>0.317500</td>\n",
       "      <td>587.700000</td>\n",
       "      <td>3.389900</td>\n",
       "      <td>2.48500</td>\n",
       "    </tr>\n",
       "    <tr>\n",
       "      <th>std</th>\n",
       "      <td>0.466087</td>\n",
       "      <td>115.516536</td>\n",
       "      <td>0.380567</td>\n",
       "      <td>0.94446</td>\n",
       "    </tr>\n",
       "    <tr>\n",
       "      <th>min</th>\n",
       "      <td>0.000000</td>\n",
       "      <td>220.000000</td>\n",
       "      <td>2.260000</td>\n",
       "      <td>1.00000</td>\n",
       "    </tr>\n",
       "    <tr>\n",
       "      <th>25%</th>\n",
       "      <td>0.000000</td>\n",
       "      <td>520.000000</td>\n",
       "      <td>3.130000</td>\n",
       "      <td>2.00000</td>\n",
       "    </tr>\n",
       "    <tr>\n",
       "      <th>50%</th>\n",
       "      <td>0.000000</td>\n",
       "      <td>580.000000</td>\n",
       "      <td>3.395000</td>\n",
       "      <td>2.00000</td>\n",
       "    </tr>\n",
       "    <tr>\n",
       "      <th>75%</th>\n",
       "      <td>1.000000</td>\n",
       "      <td>660.000000</td>\n",
       "      <td>3.670000</td>\n",
       "      <td>3.00000</td>\n",
       "    </tr>\n",
       "    <tr>\n",
       "      <th>max</th>\n",
       "      <td>1.000000</td>\n",
       "      <td>800.000000</td>\n",
       "      <td>4.000000</td>\n",
       "      <td>4.00000</td>\n",
       "    </tr>\n",
       "  </tbody>\n",
       "</table>\n",
       "</div>"
      ],
      "text/plain": [
       "            admit         gre         gpa       rank\n",
       "count  400.000000  400.000000  400.000000  400.00000\n",
       "mean     0.317500  587.700000    3.389900    2.48500\n",
       "std      0.466087  115.516536    0.380567    0.94446\n",
       "min      0.000000  220.000000    2.260000    1.00000\n",
       "25%      0.000000  520.000000    3.130000    2.00000\n",
       "50%      0.000000  580.000000    3.395000    2.00000\n",
       "75%      1.000000  660.000000    3.670000    3.00000\n",
       "max      1.000000  800.000000    4.000000    4.00000"
      ]
     },
     "execution_count": 4,
     "metadata": {},
     "output_type": "execute_result"
    }
   ],
   "source": [
    "df.describe()"
   ]
  },
  {
   "cell_type": "code",
   "execution_count": 93,
   "metadata": {
    "collapsed": false
   },
   "outputs": [],
   "source": [
    "df.columns = ['admit','gre','gpa','prestige']\n",
    "#dummy_ranks = pd.get_dummies(df['prestige'], prefix='prestige')\n",
    "#cols_to_keep = ['admit', 'gre', 'gpa']\n",
    "#data = df[cols_to_keep].join(dummy_ranks.ix[:, 'prestige_2':])\n",
    "data = df\n",
    "data['gre'] = (df['gre'] - df['gre'].mean())/df['gre'].std()"
   ]
  },
  {
   "cell_type": "code",
   "execution_count": 95,
   "metadata": {
    "collapsed": false
   },
   "outputs": [
    {
     "data": {
      "text/html": [
       "<div>\n",
       "<table border=\"1\" class=\"dataframe\">\n",
       "  <thead>\n",
       "    <tr style=\"text-align: right;\">\n",
       "      <th></th>\n",
       "      <th>admit</th>\n",
       "      <th>gre</th>\n",
       "      <th>gpa</th>\n",
       "      <th>prestige</th>\n",
       "    </tr>\n",
       "  </thead>\n",
       "  <tbody>\n",
       "    <tr>\n",
       "      <th>count</th>\n",
       "      <td>400.000000</td>\n",
       "      <td>4.000000e+02</td>\n",
       "      <td>400.000000</td>\n",
       "      <td>400.00000</td>\n",
       "    </tr>\n",
       "    <tr>\n",
       "      <th>mean</th>\n",
       "      <td>0.317500</td>\n",
       "      <td>-3.927761e-16</td>\n",
       "      <td>3.389900</td>\n",
       "      <td>2.48500</td>\n",
       "    </tr>\n",
       "    <tr>\n",
       "      <th>std</th>\n",
       "      <td>0.466087</td>\n",
       "      <td>1.000000e+00</td>\n",
       "      <td>0.380567</td>\n",
       "      <td>0.94446</td>\n",
       "    </tr>\n",
       "    <tr>\n",
       "      <th>min</th>\n",
       "      <td>0.000000</td>\n",
       "      <td>-3.183094e+00</td>\n",
       "      <td>2.260000</td>\n",
       "      <td>1.00000</td>\n",
       "    </tr>\n",
       "    <tr>\n",
       "      <th>25%</th>\n",
       "      <td>0.000000</td>\n",
       "      <td>-5.860633e-01</td>\n",
       "      <td>3.130000</td>\n",
       "      <td>2.00000</td>\n",
       "    </tr>\n",
       "    <tr>\n",
       "      <th>50%</th>\n",
       "      <td>0.000000</td>\n",
       "      <td>-6.665712e-02</td>\n",
       "      <td>3.395000</td>\n",
       "      <td>2.00000</td>\n",
       "    </tr>\n",
       "    <tr>\n",
       "      <th>75%</th>\n",
       "      <td>1.000000</td>\n",
       "      <td>6.258844e-01</td>\n",
       "      <td>3.670000</td>\n",
       "      <td>3.00000</td>\n",
       "    </tr>\n",
       "    <tr>\n",
       "      <th>max</th>\n",
       "      <td>1.000000</td>\n",
       "      <td>1.837832e+00</td>\n",
       "      <td>4.000000</td>\n",
       "      <td>4.00000</td>\n",
       "    </tr>\n",
       "  </tbody>\n",
       "</table>\n",
       "</div>"
      ],
      "text/plain": [
       "            admit           gre         gpa   prestige\n",
       "count  400.000000  4.000000e+02  400.000000  400.00000\n",
       "mean     0.317500 -3.927761e-16    3.389900    2.48500\n",
       "std      0.466087  1.000000e+00    0.380567    0.94446\n",
       "min      0.000000 -3.183094e+00    2.260000    1.00000\n",
       "25%      0.000000 -5.860633e-01    3.130000    2.00000\n",
       "50%      0.000000 -6.665712e-02    3.395000    2.00000\n",
       "75%      1.000000  6.258844e-01    3.670000    3.00000\n",
       "max      1.000000  1.837832e+00    4.000000    4.00000"
      ]
     },
     "execution_count": 95,
     "metadata": {},
     "output_type": "execute_result"
    }
   ],
   "source": [
    "data.describe()"
   ]
  },
  {
   "cell_type": "code",
   "execution_count": 96,
   "metadata": {
    "collapsed": true
   },
   "outputs": [],
   "source": [
    "train_cols = data.columns[1:]"
   ]
  },
  {
   "cell_type": "code",
   "execution_count": 97,
   "metadata": {
    "collapsed": false
   },
   "outputs": [
    {
     "data": {
      "text/plain": [
       "Index(['gre', 'gpa', 'prestige'], dtype='object')"
      ]
     },
     "execution_count": 97,
     "metadata": {},
     "output_type": "execute_result"
    }
   ],
   "source": [
    "train_cols"
   ]
  },
  {
   "cell_type": "code",
   "execution_count": 98,
   "metadata": {
    "collapsed": true
   },
   "outputs": [],
   "source": [
    "x_train,x_test,y_train,y_test = cross_validation.train_test_split(\n",
    "    data[train_cols],data['admit'],test_size=0.1, random_state=0)"
   ]
  },
  {
   "cell_type": "code",
   "execution_count": 99,
   "metadata": {
    "collapsed": false
   },
   "outputs": [],
   "source": [
    "x_train1,x_train2,y_train1,y_train2 = cross_validation.train_test_split(\n",
    "    x_train,y_train,test_size=0.5, random_state=0)"
   ]
  },
  {
   "cell_type": "code",
   "execution_count": 100,
   "metadata": {
    "collapsed": false
   },
   "outputs": [
    {
     "data": {
      "text/plain": [
       "((180, 3), (180, 3), (180,), (180,), (40, 3), (40,))"
      ]
     },
     "execution_count": 100,
     "metadata": {},
     "output_type": "execute_result"
    }
   ],
   "source": [
    "x_train1.shape,x_train2.shape,y_train1.shape,y_train2.shape,x_test.shape,y_test.shape"
   ]
  },
  {
   "cell_type": "code",
   "execution_count": 186,
   "metadata": {
    "collapsed": false
   },
   "outputs": [],
   "source": [
    "model1 = linear_model.SGDClassifier(\n",
    "                        loss='log',penalty='l2',alpha=0.001,fit_intercept=True,\n",
    "                        n_iter=50,shuffle=True,power_t=0.31)"
   ]
  },
  {
   "cell_type": "code",
   "execution_count": 187,
   "metadata": {
    "collapsed": false
   },
   "outputs": [
    {
     "data": {
      "text/plain": [
       "SGDClassifier(alpha=0.001, average=False, class_weight=None, epsilon=0.1,\n",
       "       eta0=0.0, fit_intercept=True, l1_ratio=0.15,\n",
       "       learning_rate='optimal', loss='log', n_iter=50, n_jobs=1,\n",
       "       penalty='l2', power_t=0.31, random_state=None, shuffle=True,\n",
       "       verbose=0, warm_start=False)"
      ]
     },
     "execution_count": 187,
     "metadata": {},
     "output_type": "execute_result"
    }
   ],
   "source": [
    "model1"
   ]
  },
  {
   "cell_type": "code",
   "execution_count": 188,
   "metadata": {
    "collapsed": false
   },
   "outputs": [],
   "source": [
    "# model1.partial_fit(x_train1,y_train1,classes=np.unique(df['admit']))\n",
    "model1 = model1.fit(x_train1,y_train1)"
   ]
  },
  {
   "cell_type": "code",
   "execution_count": 189,
   "metadata": {
    "collapsed": false
   },
   "outputs": [
    {
     "data": {
      "text/plain": [
       "array([[ 0.02086118,  1.93640277, -0.86647331]])"
      ]
     },
     "execution_count": 189,
     "metadata": {},
     "output_type": "execute_result"
    }
   ],
   "source": [
    "model1.coef_"
   ]
  },
  {
   "cell_type": "code",
   "execution_count": 190,
   "metadata": {
    "collapsed": false
   },
   "outputs": [
    {
     "data": {
      "text/plain": [
       "array([-5.89248856])"
      ]
     },
     "execution_count": 190,
     "metadata": {},
     "output_type": "execute_result"
    }
   ],
   "source": [
    "model1.intercept_"
   ]
  },
  {
   "cell_type": "code",
   "execution_count": 191,
   "metadata": {
    "collapsed": false,
    "scrolled": true
   },
   "outputs": [
    {
     "data": {
      "text/plain": [
       "(array([0, 0, 0, 0, 0, 0, 0, 0, 0, 0, 0, 0, 0, 0, 1, 0, 1, 0, 1, 0, 0, 0, 0,\n",
       "        0, 0, 0, 0, 0, 0, 0, 0, 1, 0, 0, 0, 0, 0, 0, 0, 0]),\n",
       " array([0, 0, 1, 0, 0, 1, 1, 0, 1, 1, 0, 0, 0, 0, 1, 0, 0, 0, 0, 0, 0, 1, 0,\n",
       "        0, 1, 1, 0, 0, 1, 0, 0, 1, 1, 1, 0, 0, 0, 1, 0, 0]))"
      ]
     },
     "execution_count": 191,
     "metadata": {},
     "output_type": "execute_result"
    }
   ],
   "source": [
    "model1.predict(x_test), np.array(y_test)"
   ]
  },
  {
   "cell_type": "code",
   "execution_count": 192,
   "metadata": {
    "collapsed": false,
    "scrolled": true
   },
   "outputs": [
    {
     "data": {
      "text/plain": [
       "array([[ 0.73943929,  0.26056071],\n",
       "       [ 0.93980604,  0.06019396],\n",
       "       [ 0.96660693,  0.03339307],\n",
       "       [ 0.92649773,  0.07350227],\n",
       "       [ 0.75789648,  0.24210352],\n",
       "       [ 0.81181413,  0.18818587],\n",
       "       [ 0.97857755,  0.02142245],\n",
       "       [ 0.82526581,  0.17473419],\n",
       "       [ 0.92566729,  0.07433271],\n",
       "       [ 0.67472189,  0.32527811],\n",
       "       [ 0.94727833,  0.05272167],\n",
       "       [ 0.87192075,  0.12807925],\n",
       "       [ 0.62750398,  0.37249602],\n",
       "       [ 0.76006186,  0.23993814],\n",
       "       [ 0.26546299,  0.73453701],\n",
       "       [ 0.98007209,  0.01992791],\n",
       "       [ 0.27549953,  0.72450047],\n",
       "       [ 0.50148185,  0.49851815],\n",
       "       [ 0.46918713,  0.53081287],\n",
       "       [ 0.88690743,  0.11309257],\n",
       "       [ 0.92852741,  0.07147259],\n",
       "       [ 0.71275722,  0.28724278],\n",
       "       [ 0.72207418,  0.27792582],\n",
       "       [ 0.88258964,  0.11741036],\n",
       "       [ 0.74912006,  0.25087994],\n",
       "       [ 0.90910352,  0.09089648],\n",
       "       [ 0.67392675,  0.32607325],\n",
       "       [ 0.86414266,  0.13585734],\n",
       "       [ 0.61902351,  0.38097649],\n",
       "       [ 0.95015321,  0.04984679],\n",
       "       [ 0.84928851,  0.15071149],\n",
       "       [ 0.47549057,  0.52450943],\n",
       "       [ 0.8125193 ,  0.1874807 ],\n",
       "       [ 0.84430393,  0.15569607],\n",
       "       [ 0.66184521,  0.33815479],\n",
       "       [ 0.87980634,  0.12019366],\n",
       "       [ 0.54704351,  0.45295649],\n",
       "       [ 0.72015575,  0.27984425],\n",
       "       [ 0.93792298,  0.06207702],\n",
       "       [ 0.72253688,  0.27746312]])"
      ]
     },
     "execution_count": 192,
     "metadata": {},
     "output_type": "execute_result"
    }
   ],
   "source": [
    "model1.predict_proba(x_test)"
   ]
  },
  {
   "cell_type": "code",
   "execution_count": 193,
   "metadata": {
    "collapsed": false
   },
   "outputs": [
    {
     "data": {
      "text/plain": [
       "0.73611111111111116"
      ]
     },
     "execution_count": 193,
     "metadata": {},
     "output_type": "execute_result"
    }
   ],
   "source": [
    "model1.score(x_train, y_train)"
   ]
  },
  {
   "cell_type": "code",
   "execution_count": 194,
   "metadata": {
    "collapsed": false
   },
   "outputs": [
    {
     "data": {
      "text/plain": [
       "0.65000000000000002"
      ]
     },
     "execution_count": 194,
     "metadata": {},
     "output_type": "execute_result"
    }
   ],
   "source": [
    "model1.score(x_test, y_test)"
   ]
  },
  {
   "cell_type": "code",
   "execution_count": 195,
   "metadata": {
    "collapsed": false
   },
   "outputs": [
    {
     "data": {
      "text/plain": [
       "array([0, 0, 0, 0, 0, 0, 0, 0, 0, 0, 0, 0, 0, 0, 1, 0, 0, 0, 1, 0, 0, 0, 0,\n",
       "       0, 0, 0, 0, 0, 0, 0, 0, 0, 1, 0, 0, 1, 0, 0, 0, 0, 0, 0, 0, 1, 0, 0,\n",
       "       0, 0, 1, 1, 0, 0, 0, 0, 0, 0, 0, 0, 0, 0, 0, 0, 0, 0, 0, 0, 0, 0, 0,\n",
       "       0, 0, 1, 0, 0, 0, 0, 0, 0, 0, 0, 0, 0, 1, 0, 1, 0, 0, 1, 1, 0, 1, 0,\n",
       "       0, 0, 0, 0, 0, 0, 0, 0, 0, 0, 0, 0, 0, 0, 0, 0, 0, 0, 0, 0, 0, 0, 0,\n",
       "       0, 0, 1, 0, 0, 0, 0, 0, 0, 0, 0, 0, 0, 0, 0, 0, 0, 0, 0, 0, 0, 0, 0,\n",
       "       0, 0, 0, 1, 0, 0, 0, 0, 0, 0, 1, 0, 0, 0, 0, 0, 1, 1, 0, 0, 0, 0, 0,\n",
       "       0, 0, 0, 0, 0, 0, 0, 1, 0, 0, 0, 0, 0, 1, 0, 0, 0, 0, 0, 1, 0, 0, 0,\n",
       "       0, 1, 0, 0, 0, 0, 0, 0, 0, 0, 0, 0, 1, 0, 0, 0, 0, 1, 0, 0, 0, 0, 0,\n",
       "       0, 1, 1, 0, 0, 0, 0, 0, 0, 0, 1, 1, 0, 0, 0, 1, 0, 0, 0, 0, 0, 0, 0,\n",
       "       0, 0, 0, 1, 0, 0, 0, 0, 0, 0, 0, 0, 0, 0, 0, 1, 0, 0, 0, 0, 0, 0, 0,\n",
       "       0, 0, 0, 0, 0, 0, 0, 0, 0, 0, 0, 0, 0, 0, 0, 0, 0, 0, 1, 0, 0, 1, 0,\n",
       "       0, 0, 0, 0, 0, 0, 0, 0, 0, 0, 0, 0, 0, 0, 1, 0, 0, 0, 0, 0, 0, 0, 0,\n",
       "       0, 0, 1, 0, 0, 0, 0, 0, 0, 0, 0, 0, 0, 0, 0, 1, 0, 0, 0, 0, 0, 0, 0,\n",
       "       0, 0, 0, 0, 0, 0, 1, 0, 0, 0, 0, 0, 0, 1, 1, 0, 0, 0, 0, 0, 0, 0, 0,\n",
       "       0, 0, 0, 0, 1, 0, 0, 0, 0, 0, 0, 0, 0, 0, 0])"
      ]
     },
     "execution_count": 195,
     "metadata": {},
     "output_type": "execute_result"
    }
   ],
   "source": [
    "model1.predict(x_train)"
   ]
  },
  {
   "cell_type": "code",
   "execution_count": 196,
   "metadata": {
    "collapsed": false
   },
   "outputs": [],
   "source": [
    "model2 = model1.partial_fit(x_train2,y_train2)"
   ]
  },
  {
   "cell_type": "code",
   "execution_count": 198,
   "metadata": {
    "collapsed": false
   },
   "outputs": [
    {
     "data": {
      "text/plain": [
       "0.57499999999999996"
      ]
     },
     "execution_count": 198,
     "metadata": {},
     "output_type": "execute_result"
    }
   ],
   "source": [
    "model2.score(x_test, y_test)"
   ]
  },
  {
   "cell_type": "markdown",
   "metadata": {},
   "source": [
    "# Appendix"
   ]
  },
  {
   "cell_type": "markdown",
   "metadata": {},
   "source": [
    "### export/save model object"
   ]
  },
  {
   "cell_type": "code",
   "execution_count": 49,
   "metadata": {
    "collapsed": false
   },
   "outputs": [
    {
     "data": {
      "text/plain": [
       "['my_models/logmodeltest.pkl',\n",
       " 'my_models/logmodeltest.pkl_01.npy',\n",
       " 'my_models/logmodeltest.pkl_02.npy',\n",
       " 'my_models/logmodeltest.pkl_03.npy',\n",
       " 'my_models/logmodeltest.pkl_04.npy']"
      ]
     },
     "execution_count": 49,
     "metadata": {},
     "output_type": "execute_result"
    }
   ],
   "source": [
    "from sklearn.externals import joblib\n",
    "joblib.dump(model1, 'my_models/logmodeltest.pkl') "
   ]
  },
  {
   "cell_type": "code",
   "execution_count": 50,
   "metadata": {
    "collapsed": true
   },
   "outputs": [],
   "source": [
    "clf = joblib.load('my_models/logmodeltest.pkl')"
   ]
  },
  {
   "cell_type": "code",
   "execution_count": 51,
   "metadata": {
    "collapsed": false
   },
   "outputs": [
    {
     "data": {
      "text/plain": [
       "False"
      ]
     },
     "execution_count": 51,
     "metadata": {},
     "output_type": "execute_result"
    }
   ],
   "source": [
    "model1 == clf"
   ]
  },
  {
   "cell_type": "markdown",
   "metadata": {},
   "source": [
    "### Example from sklearn docs"
   ]
  },
  {
   "cell_type": "code",
   "execution_count": 1,
   "metadata": {
    "collapsed": false
   },
   "outputs": [
    {
     "data": {
      "text/plain": [
       "SGDClassifier(alpha=0.0001, average=False, class_weight=None, epsilon=0.1,\n",
       "       eta0=0.0, fit_intercept=True, l1_ratio=0.15,\n",
       "       learning_rate='optimal', loss='hinge', n_iter=5, n_jobs=1,\n",
       "       penalty='l2', power_t=0.5, random_state=None, shuffle=True,\n",
       "       verbose=0, warm_start=False)"
      ]
     },
     "execution_count": 1,
     "metadata": {},
     "output_type": "execute_result"
    }
   ],
   "source": [
    "import numpy as np\n",
    "from sklearn import linear_model\n",
    "X = np.array([[-1, -1], [-2, -1], [1, 1], [2, 1]])\n",
    "Y = np.array([1, 1, 2, 2])\n",
    "clf = linear_model.SGDClassifier()\n",
    "clf.fit(X, Y)"
   ]
  },
  {
   "cell_type": "code",
   "execution_count": 2,
   "metadata": {
    "collapsed": false
   },
   "outputs": [
    {
     "name": "stdout",
     "output_type": "stream",
     "text": [
      "Automatically created module for IPython interactive environment\n"
     ]
    },
    {
     "data": {
      "image/png": "[encoded data removed]",
      "text/plain": [
       "<matplotlib.figure.Figure at 0x7f648a4f1390>"
      ]
     },
     "metadata": {},
     "output_type": "display_data"
    }
   ],
   "source": [
    "print(__doc__)\n",
    "%matplotlib inline\n",
    "\n",
    "import numpy as np\n",
    "import matplotlib.pyplot as plt\n",
    "from sklearn import datasets\n",
    "from sklearn.linear_model import SGDClassifier\n",
    "\n",
    "from pylab import *  \n",
    "mpl.rcParams['font.sans-serif'] = ['SimHei'] #指定默认字体  \n",
    "mpl.rcParams['axes.unicode_minus'] = False #解决保存图像是负号'-'显示为方块的问题  \n",
    "\n",
    "\n",
    "# import some data to play with\n",
    "iris = datasets.load_iris()\n",
    "X = iris.data[:, :2]  # we only take the first two features. We could\n",
    "                      # avoid this ugly slicing by using a two-dim dataset\n",
    "y = iris.target\n",
    "colors = \"bry\"\n",
    "\n",
    "# shuffle\n",
    "idx = np.arange(X.shape[0])\n",
    "np.random.seed(13)\n",
    "np.random.shuffle(idx)\n",
    "X = X[idx]\n",
    "y = y[idx]\n",
    "\n",
    "# standardize\n",
    "mean = X.mean(axis=0)\n",
    "std = X.std(axis=0)\n",
    "X = (X - mean) / std\n",
    "\n",
    "h = .02  # step size in the mesh\n",
    "\n",
    "clf = SGDClassifier(alpha=0.001, n_iter=100).fit(X, y)\n",
    "\n",
    "# create a mesh to plot in\n",
    "x_min, x_max = X[:, 0].min() - 1, X[:, 0].max() + 1\n",
    "y_min, y_max = X[:, 1].min() - 1, X[:, 1].max() + 1\n",
    "xx, yy = np.meshgrid(np.arange(x_min, x_max, h),\n",
    "                     np.arange(y_min, y_max, h))\n",
    "\n",
    "# Plot the decision boundary. For that, we will assign a color to each\n",
    "# point in the mesh [x_min, m_max]x[y_min, y_max].\n",
    "Z = clf.predict(np.c_[xx.ravel(), yy.ravel()])\n",
    "# Put the result into a color plot\n",
    "Z = Z.reshape(xx.shape)\n",
    "cs = plt.contourf(xx, yy, Z, cmap=plt.cm.Paired)\n",
    "plt.axis('tight')\n",
    "\n",
    "# Plot also the training points\n",
    "for i, color in zip(clf.classes_, colors):\n",
    "    idx = np.where(y == i)\n",
    "    plt.scatter(X[idx, 0], X[idx, 1], c=color, label=iris.target_names[i],\n",
    "                cmap=plt.cm.Paired)\n",
    "#plt.title(\"Decision surface of multi-class SGD\")\n",
    "plt.title(\"中文测试\")\n",
    "plt.axis('tight')\n",
    "\n",
    "# Plot the three one-against-all classifiers\n",
    "xmin, xmax = plt.xlim()\n",
    "ymin, ymax = plt.ylim()\n",
    "coef = clf.coef_\n",
    "intercept = clf.intercept_\n",
    "\n",
    "\n",
    "def plot_hyperplane(c, color):\n",
    "    def line(x0):\n",
    "        return (-(x0 * coef[c, 0]) - intercept[c]) / coef[c, 1]\n",
    "\n",
    "    plt.plot([xmin, xmax], [line(xmin), line(xmax)],\n",
    "             ls=\"--\", color=color)\n",
    "\n",
    "for i, color in zip(clf.classes_, colors):\n",
    "    plot_hyperplane(i, color)\n",
    "plt.legend()\n",
    "plt.show()"
   ]
  },
  {
   "cell_type": "code",
   "execution_count": 16,
   "metadata": {
    "collapsed": false
   },
   "outputs": [
    {
     "name": "stderr",
     "output_type": "stream",
     "text": [
      "/home/katherine/anaconda3/lib/python3.5/site-packages/matplotlib/font_manager.py:273: UserWarning: Matplotlib is building the font cache using fc-list. This may take a moment.\n",
      "  warnings.warn('Matplotlib is building the font cache using fc-list. This may take a moment.')\n",
      "/home/katherine/anaconda3/lib/python3.5/site-packages/matplotlib/font_manager.py:273: UserWarning: Matplotlib is building the font cache using fc-list. This may take a moment.\n",
      "  warnings.warn('Matplotlib is building the font cache using fc-list. This may take a moment.')\n"
     ]
    },
    {
     "name": "stdout",
     "output_type": "stream",
     "text": [
      "********** 可用的字体 **********\n"
     ]
    }
   ],
   "source": [
    "from matplotlib.font_manager import FontManager\n",
    "import subprocess\n",
    "\n",
    "fm = FontManager()\n",
    "mat_fonts = set(f.name for f in fm.ttflist)\n",
    "\n",
    "output = subprocess.check_output(\n",
    "    'fc-list :lang=zh -f \"%{family}\\n\"', shell=True).decode('utf-8')\n",
    "# print '*' * 10, '系统可用的中文字体', '*' * 10\n",
    "# print output\n",
    "zh_fonts = set(f.split(',', 1)[0] for f in output.split('\\n'))\n",
    "available = mat_fonts & zh_fonts\n",
    "\n",
    "print('*' * 10, '可用的字体', '*' * 10)\n",
    "for f in available:\n",
    "    print(f)"
   ]
  },
  {
   "cell_type": "code",
   "execution_count": 18,
   "metadata": {
    "collapsed": false,
    "scrolled": true
   },
   "outputs": [
    {
     "data": {
      "text/plain": [
       "{'Abyssinica SIL',\n",
       " 'Arvo',\n",
       " 'Bitstream Vera Sans',\n",
       " 'Bitstream Vera Sans Mono',\n",
       " 'Bitstream Vera Serif',\n",
       " 'DejaVu Sans',\n",
       " 'DejaVu Sans Mono',\n",
       " 'DejaVu Serif',\n",
       " 'Droid Serif',\n",
       " 'FontAwesome',\n",
       " 'FreeMono',\n",
       " 'FreeSans',\n",
       " 'FreeSerif',\n",
       " 'Garuda',\n",
       " 'Indie Flower',\n",
       " 'KacstArt',\n",
       " 'KacstBook',\n",
       " 'KacstDecorative',\n",
       " 'KacstDigital',\n",
       " 'KacstFarsi',\n",
       " 'KacstLetter',\n",
       " 'KacstNaskh',\n",
       " 'KacstOffice',\n",
       " 'KacstOne',\n",
       " 'KacstPen',\n",
       " 'KacstPoster',\n",
       " 'KacstQurn',\n",
       " 'KacstScreen',\n",
       " 'KacstTitle',\n",
       " 'KacstTitleL',\n",
       " 'Khmer OS',\n",
       " 'Khmer OS System',\n",
       " 'Kinnari',\n",
       " 'LKLUG',\n",
       " 'Laksaman',\n",
       " 'Lato',\n",
       " 'Liberation Mono',\n",
       " 'Liberation Sans',\n",
       " 'Liberation Sans Narrow',\n",
       " 'Liberation Serif',\n",
       " 'Lobster',\n",
       " 'Lohit Punjabi',\n",
       " 'Loma',\n",
       " 'MathJax_AMS',\n",
       " 'MathJax_Caligraphic',\n",
       " 'MathJax_Fraktur',\n",
       " 'MathJax_Main',\n",
       " 'MathJax_Math',\n",
       " 'MathJax_SansSerif',\n",
       " 'MathJax_Script',\n",
       " 'MathJax_Size1',\n",
       " 'MathJax_Size2',\n",
       " 'MathJax_Size3',\n",
       " 'MathJax_Size4',\n",
       " 'MathJax_Typewriter',\n",
       " 'MathJax_WinChrome',\n",
       " 'MathJax_WinIE6',\n",
       " 'NanumBarunGothic',\n",
       " 'NanumGothic',\n",
       " 'NanumMyeongjo',\n",
       " 'Norasi',\n",
       " 'Open Sans',\n",
       " 'OpenSymbol',\n",
       " 'Padauk',\n",
       " 'Padauk Book',\n",
       " 'Phetsarath OT',\n",
       " 'Poiret One',\n",
       " 'Purisa',\n",
       " 'Raleway',\n",
       " 'Roboto',\n",
       " 'Roboto Condensed',\n",
       " 'Roboto Slab',\n",
       " 'STIX',\n",
       " 'STIX Math',\n",
       " 'STIXGeneral',\n",
       " 'STIXIntegralsD',\n",
       " 'STIXIntegralsSm',\n",
       " 'STIXIntegralsUp',\n",
       " 'STIXIntegralsUpD',\n",
       " 'STIXIntegralsUpSm',\n",
       " 'STIXNonUnicode',\n",
       " 'STIXSizeFiveSym',\n",
       " 'STIXSizeFourSym',\n",
       " 'STIXSizeOneSym',\n",
       " 'STIXSizeThreeSym',\n",
       " 'STIXSizeTwoSym',\n",
       " 'STIXVariants',\n",
       " 'Saab',\n",
       " 'Sawasdee',\n",
       " 'Symbola',\n",
       " 'TakaoPGothic',\n",
       " 'Tibetan Machine Uni',\n",
       " 'Tlwg Mono',\n",
       " 'Tlwg Typewriter',\n",
       " 'Tlwg Typist',\n",
       " 'Tlwg Typo',\n",
       " 'Ubuntu',\n",
       " 'Ubuntu Condensed',\n",
       " 'Ubuntu Mono',\n",
       " 'Umpush',\n",
       " 'Waree',\n",
       " 'cmb10',\n",
       " 'cmex10',\n",
       " 'cmmi10',\n",
       " 'cmr10',\n",
       " 'cmss10',\n",
       " 'cmsy10',\n",
       " 'cmtt10',\n",
       " 'mry_KacstQurn'}"
      ]
     },
     "execution_count": 18,
     "metadata": {},
     "output_type": "execute_result"
    }
   ],
   "source": [
    "mat_fonts"
   ]
  },
  {
   "cell_type": "code",
   "execution_count": 13,
   "metadata": {
    "collapsed": false,
    "scrolled": true
   },
   "outputs": [
    {
     "data": {
      "text/plain": [
       "['cmsy10',\n",
       " 'STIXSizeFourSym',\n",
       " 'cmex10',\n",
       " 'Bitstream Vera Sans',\n",
       " 'Bitstream Vera Serif',\n",
       " 'cmmi10',\n",
       " 'Bitstream Vera Sans Mono',\n",
       " 'STIXGeneral',\n",
       " 'Bitstream Vera Sans Mono',\n",
       " 'Bitstream Vera Sans',\n",
       " 'Bitstream Vera Sans Mono',\n",
       " 'STIXNonUnicode',\n",
       " 'STIXNonUnicode',\n",
       " 'STIXSizeTwoSym',\n",
       " 'Bitstream Vera Sans Mono',\n",
       " 'Bitstream Vera Serif',\n",
       " 'STIXSizeTwoSym',\n",
       " 'STIXSizeFiveSym',\n",
       " 'cmtt10',\n",
       " 'STIXSizeOneSym',\n",
       " 'STIXSizeThreeSym',\n",
       " 'STIXSizeOneSym',\n",
       " 'STIXGeneral',\n",
       " 'cmr10',\n",
       " 'STIXNonUnicode',\n",
       " 'STIXGeneral',\n",
       " 'cmb10',\n",
       " 'cmss10',\n",
       " 'STIXSizeThreeSym',\n",
       " 'Bitstream Vera Sans',\n",
       " 'STIXGeneral',\n",
       " 'Bitstream Vera Sans',\n",
       " 'STIXSizeFourSym',\n",
       " 'STIXNonUnicode',\n",
       " 'Loma',\n",
       " 'Padauk',\n",
       " 'Norasi',\n",
       " 'MathJax_Main',\n",
       " 'STIXSizeFourSym',\n",
       " 'Kinnari',\n",
       " 'FreeMono',\n",
       " 'STIXIntegralsD',\n",
       " 'MathJax_Script',\n",
       " 'Norasi',\n",
       " 'MathJax_Size1',\n",
       " 'Tlwg Typo',\n",
       " 'Open Sans',\n",
       " 'STIXNonUnicode',\n",
       " 'Ubuntu',\n",
       " 'Ubuntu Mono',\n",
       " 'KacstLetter',\n",
       " 'KacstPoster',\n",
       " 'Droid Serif',\n",
       " 'MathJax_Fraktur',\n",
       " 'FreeMono',\n",
       " 'FreeSans',\n",
       " 'Garuda',\n",
       " 'Lato',\n",
       " 'Tlwg Typewriter',\n",
       " 'Arvo',\n",
       " 'Umpush',\n",
       " 'STIXIntegralsUp',\n",
       " 'Ubuntu Condensed',\n",
       " 'Liberation Sans Narrow',\n",
       " 'STIX',\n",
       " 'MathJax_Size3',\n",
       " 'STIXIntegralsUpD',\n",
       " 'Liberation Mono',\n",
       " 'KacstDigital',\n",
       " 'Tlwg Typewriter',\n",
       " 'KacstPen',\n",
       " 'DejaVu Sans Mono',\n",
       " 'MathJax_Fraktur',\n",
       " 'Lato',\n",
       " 'Tlwg Typo',\n",
       " 'Ubuntu',\n",
       " 'STIXSizeThreeSym',\n",
       " 'Tlwg Typewriter',\n",
       " 'Ubuntu',\n",
       " 'Laksaman',\n",
       " 'Arvo',\n",
       " 'Laksaman',\n",
       " 'DejaVu Sans',\n",
       " 'STIX Math',\n",
       " 'Tlwg Typewriter',\n",
       " 'Lato',\n",
       " 'Garuda',\n",
       " 'Norasi',\n",
       " 'Loma',\n",
       " 'STIX',\n",
       " 'DejaVu Sans Mono',\n",
       " 'Laksaman',\n",
       " 'Liberation Sans Narrow',\n",
       " 'Liberation Serif',\n",
       " 'Raleway',\n",
       " 'DejaVu Serif',\n",
       " 'Tlwg Mono',\n",
       " 'Liberation Sans',\n",
       " 'Indie Flower',\n",
       " 'Tlwg Typist',\n",
       " 'Lato',\n",
       " 'Tibetan Machine Uni',\n",
       " 'Lato',\n",
       " 'Lato',\n",
       " 'Open Sans',\n",
       " 'Purisa',\n",
       " 'Tlwg Typist',\n",
       " 'Droid Serif',\n",
       " 'STIXIntegralsSm',\n",
       " 'Ubuntu Mono',\n",
       " 'Kinnari',\n",
       " 'Roboto',\n",
       " 'Lato',\n",
       " 'OpenSymbol',\n",
       " 'Umpush',\n",
       " 'Roboto',\n",
       " 'Lato',\n",
       " 'DejaVu Sans',\n",
       " 'Umpush',\n",
       " 'Symbola',\n",
       " 'DejaVu Sans',\n",
       " 'STIXIntegralsUpD',\n",
       " 'Lato',\n",
       " 'Lato',\n",
       " 'STIXSizeFiveSym',\n",
       " 'FreeSerif',\n",
       " 'FreeSerif',\n",
       " 'Ubuntu',\n",
       " 'STIXIntegralsSm',\n",
       " 'Ubuntu Mono',\n",
       " 'DejaVu Sans',\n",
       " 'Umpush',\n",
       " 'KacstOffice',\n",
       " 'Lato',\n",
       " 'Sawasdee',\n",
       " 'Droid Serif',\n",
       " 'Liberation Sans',\n",
       " 'Garuda',\n",
       " 'MathJax_SansSerif',\n",
       " 'Ubuntu',\n",
       " 'Norasi',\n",
       " 'KacstOne',\n",
       " 'Roboto Condensed',\n",
       " 'STIXVariants',\n",
       " 'Lato',\n",
       " 'KacstBook',\n",
       " 'STIXVariants',\n",
       " 'Tlwg Mono',\n",
       " 'KacstArt',\n",
       " 'STIXSizeOneSym',\n",
       " 'Roboto',\n",
       " 'Lato',\n",
       " 'Sawasdee',\n",
       " 'Purisa',\n",
       " 'DejaVu Sans',\n",
       " 'Open Sans',\n",
       " 'KacstScreen',\n",
       " 'DejaVu Sans',\n",
       " 'Roboto Condensed',\n",
       " 'Roboto Slab',\n",
       " 'Liberation Sans',\n",
       " 'Waree',\n",
       " 'STIXSizeOneSym',\n",
       " 'FreeMono',\n",
       " 'Liberation Serif',\n",
       " 'Saab',\n",
       " 'MathJax_Typewriter',\n",
       " 'Liberation Sans',\n",
       " 'Tlwg Typist',\n",
       " 'STIXGeneral',\n",
       " 'Khmer OS',\n",
       " 'Liberation Mono',\n",
       " 'Ubuntu Mono',\n",
       " 'Lobster',\n",
       " 'TakaoPGothic',\n",
       " 'FreeSerif',\n",
       " 'NanumGothic',\n",
       " 'Ubuntu',\n",
       " 'DejaVu Sans Mono',\n",
       " 'Ubuntu',\n",
       " 'Kinnari',\n",
       " 'Liberation Serif',\n",
       " 'Waree',\n",
       " 'Ubuntu',\n",
       " 'DejaVu Serif',\n",
       " 'Norasi',\n",
       " 'STIX',\n",
       " 'Tlwg Typo',\n",
       " 'Sawasdee',\n",
       " 'Umpush',\n",
       " 'MathJax_AMS',\n",
       " 'Arvo',\n",
       " 'STIXSizeThreeSym',\n",
       " 'NanumMyeongjo',\n",
       " 'STIXNonUnicode',\n",
       " 'Liberation Sans Narrow',\n",
       " 'KacstTitle',\n",
       " 'Kinnari',\n",
       " 'FreeSans',\n",
       " 'Loma',\n",
       " 'FreeSerif',\n",
       " 'DejaVu Serif',\n",
       " 'Roboto Condensed',\n",
       " 'DejaVu Serif',\n",
       " 'Purisa',\n",
       " 'Abyssinica SIL',\n",
       " 'MathJax_WinChrome',\n",
       " 'Liberation Mono',\n",
       " 'MathJax_WinIE6',\n",
       " 'KacstQurn',\n",
       " 'Padauk Book',\n",
       " 'MathJax_Main',\n",
       " 'KacstDecorative',\n",
       " 'Lato',\n",
       " 'DejaVu Sans',\n",
       " 'Lato',\n",
       " 'Garuda',\n",
       " 'Lato',\n",
       " 'Waree',\n",
       " 'FontAwesome',\n",
       " 'MathJax_Size4',\n",
       " 'NanumGothic',\n",
       " 'Purisa',\n",
       " 'FreeSans',\n",
       " 'DejaVu Serif',\n",
       " 'KacstOne',\n",
       " 'Phetsarath OT',\n",
       " 'KacstFarsi',\n",
       " 'Laksaman',\n",
       " 'Tlwg Typist',\n",
       " 'Roboto Condensed',\n",
       " 'Sawasdee',\n",
       " 'MathJax_Caligraphic',\n",
       " 'STIXGeneral',\n",
       " 'STIXIntegralsUp',\n",
       " 'DejaVu Sans',\n",
       " 'Lato',\n",
       " 'MathJax_Main',\n",
       " 'Roboto',\n",
       " 'NanumBarunGothic',\n",
       " 'STIXIntegralsUpSm',\n",
       " 'Open Sans',\n",
       " 'Liberation Serif',\n",
       " 'DejaVu Serif',\n",
       " 'STIXSizeFourSym',\n",
       " 'STIXNonUnicode',\n",
       " 'Arvo',\n",
       " 'Kinnari',\n",
       " 'MathJax_Math',\n",
       " 'DejaVu Sans',\n",
       " 'Padauk Book',\n",
       " 'Liberation Mono',\n",
       " 'Tlwg Mono',\n",
       " 'FontAwesome',\n",
       " 'Liberation Sans Narrow',\n",
       " 'Kinnari',\n",
       " 'mry_KacstQurn',\n",
       " 'DejaVu Serif',\n",
       " 'MathJax_Caligraphic',\n",
       " 'LKLUG',\n",
       " 'STIXIntegralsUpSm',\n",
       " 'Waree',\n",
       " 'NanumBarunGothic',\n",
       " 'MathJax_Size2',\n",
       " 'MathJax_SansSerif',\n",
       " 'STIX',\n",
       " 'MathJax_Math',\n",
       " 'TakaoPGothic',\n",
       " 'KacstNaskh',\n",
       " 'Padauk',\n",
       " 'Khmer OS System',\n",
       " 'FreeMono',\n",
       " 'Raleway',\n",
       " 'STIXIntegralsD',\n",
       " 'Tlwg Mono',\n",
       " 'STIXGeneral',\n",
       " 'MathJax_SansSerif',\n",
       " 'STIXGeneral',\n",
       " 'Loma',\n",
       " 'Roboto Slab',\n",
       " 'DejaVu Serif',\n",
       " 'Lato',\n",
       " 'Poiret One',\n",
       " 'Norasi',\n",
       " 'Umpush',\n",
       " 'STIXNonUnicode',\n",
       " 'STIXSizeTwoSym',\n",
       " 'KacstTitleL',\n",
       " 'Tlwg Typo',\n",
       " 'DejaVu Sans Mono',\n",
       " 'Droid Serif',\n",
       " 'MathJax_Math',\n",
       " 'Lohit Punjabi',\n",
       " 'FreeSans',\n",
       " 'STIXSizeTwoSym',\n",
       " 'NanumMyeongjo']"
      ]
     },
     "execution_count": 13,
     "metadata": {},
     "output_type": "execute_result"
    }
   ],
   "source": [
    "[f.name for f in fm.ttflist]"
   ]
  },
  {
   "cell_type": "code",
   "execution_count": null,
   "metadata": {
    "collapsed": true
   },
   "outputs": [],
   "source": []
  }
 ],
 "metadata": {
  "anaconda-cloud": {},
  "kernelspec": {
   "display_name": "Python 3",
   "language": "python",
   "name": "python3"
  },
  "language_info": {
   "codemirror_mode": {
    "name": "ipython",
    "version": 3
   },
   "file_extension": ".py",
   "mimetype": "text/x-python",
   "name": "python",
   "nbconvert_exporter": "python",
   "pygments_lexer": "ipython3",
   "version": "3.5.2"
  }
 },
 "nbformat": 4,
 "nbformat_minor": 0
}
