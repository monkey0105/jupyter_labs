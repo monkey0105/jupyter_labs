{
 "cells": [
  {
   "cell_type": "markdown",
   "metadata": {
    "toc": "true"
   },
   "source": [
    "# Table of Contents\n",
    " <p><div class=\"lev1 toc-item\"><a href=\"#背景简介\" data-toc-modified-id=\"背景简介-1\"><span class=\"toc-item-num\">1&nbsp;&nbsp;</span>背景简介</a></div><div class=\"lev1 toc-item\"><a href=\"#配置文件设置\" data-toc-modified-id=\"配置文件设置-2\"><span class=\"toc-item-num\">2&nbsp;&nbsp;</span>配置文件设置</a></div><div class=\"lev2 toc-item\"><a href=\"#检查当前设置\" data-toc-modified-id=\"检查当前设置-21\"><span class=\"toc-item-num\">2.1&nbsp;&nbsp;</span>检查当前设置</a></div><div class=\"lev2 toc-item\"><a href=\"#主要配置参数和建议值\" data-toc-modified-id=\"主要配置参数和建议值-22\"><span class=\"toc-item-num\">2.2&nbsp;&nbsp;</span>主要配置参数和建议值</a></div><div class=\"lev2 toc-item\"><a href=\"#如何修改配置参数设置\" data-toc-modified-id=\"如何修改配置参数设置-23\"><span class=\"toc-item-num\">2.3&nbsp;&nbsp;</span>如何修改配置参数设置</a></div><div class=\"lev3 toc-item\"><a href=\"#ALTER-DATABASE--vs--ALTER-SYSTEM\" data-toc-modified-id=\"ALTER-DATABASE--vs--ALTER-SYSTEM-231\"><span class=\"toc-item-num\">2.3.1&nbsp;&nbsp;</span><code>ALTER DATABASE</code>  vs  <code>ALTER SYSTEM</code></a></div><div class=\"lev4 toc-item\"><a href=\"#ALTER-SYSTEM-Synopsis\" data-toc-modified-id=\"ALTER-SYSTEM-Synopsis-2311\"><span class=\"toc-item-num\">2.3.1.1&nbsp;&nbsp;</span>ALTER SYSTEM Synopsis</a></div><div class=\"lev4 toc-item\"><a href=\"#ALTER-DATABASE-Synopsis\" data-toc-modified-id=\"ALTER-DATABASE-Synopsis-2312\"><span class=\"toc-item-num\">2.3.1.2&nbsp;&nbsp;</span>ALTER DATABASE Synopsis</a></div><div class=\"lev3 toc-item\"><a href=\"#修改参数值\" data-toc-modified-id=\"修改参数值-232\"><span class=\"toc-item-num\">2.3.2&nbsp;&nbsp;</span>修改参数值</a></div><div class=\"lev3 toc-item\"><a href=\"#重新加载配置文件\" data-toc-modified-id=\"重新加载配置文件-233\"><span class=\"toc-item-num\">2.3.3&nbsp;&nbsp;</span>重新加载配置文件</a></div><div class=\"lev3 toc-item\"><a href=\"#重新启动数据库服务器\" data-toc-modified-id=\"重新启动数据库服务器-234\"><span class=\"toc-item-num\">2.3.4&nbsp;&nbsp;</span>重新启动数据库服务器</a></div><div class=\"lev2 toc-item\"><a href=\"#小结\" data-toc-modified-id=\"小结-24\"><span class=\"toc-item-num\">2.4&nbsp;&nbsp;</span>小结</a></div><div class=\"lev1 toc-item\"><a href=\"#更新数据库的统计参数(Statistics)-(!!!)\" data-toc-modified-id=\"更新数据库的统计参数(Statistics)-(!!!)-3\"><span class=\"toc-item-num\">3&nbsp;&nbsp;</span>更新数据库的统计参数(Statistics) (!!!)</a></div><div class=\"lev2 toc-item\"><a href=\"#VACUUM\" data-toc-modified-id=\"VACUUM-31\"><span class=\"toc-item-num\">3.1&nbsp;&nbsp;</span>VACUUM</a></div><div class=\"lev2 toc-item\"><a href=\"#ANALYZE-(!!!)\" data-toc-modified-id=\"ANALYZE-(!!!)-32\"><span class=\"toc-item-num\">3.2&nbsp;&nbsp;</span>ANALYZE (!!!)</a></div><div class=\"lev3 toc-item\"><a href=\"#用法\" data-toc-modified-id=\"用法-321\"><span class=\"toc-item-num\">3.2.1&nbsp;&nbsp;</span>用法</a></div><div class=\"lev3 toc-item\"><a href=\"#Description\" data-toc-modified-id=\"Description-322\"><span class=\"toc-item-num\">3.2.2&nbsp;&nbsp;</span>Description</a></div><div class=\"lev1 toc-item\"><a href=\"#写SQL语句时考虑运行效率\" data-toc-modified-id=\"写SQL语句时考虑运行效率-4\"><span class=\"toc-item-num\">4&nbsp;&nbsp;</span>写SQL语句时考虑运行效率</a></div><div class=\"lev2 toc-item\"><a href=\"#建议\" data-toc-modified-id=\"建议-41\"><span class=\"toc-item-num\">4.1&nbsp;&nbsp;</span>建议</a></div><div class=\"lev2 toc-item\"><a href=\"#在执行查询前先让postgreSQL寻找最优的查询方式\" data-toc-modified-id=\"在执行查询前先让postgreSQL寻找最优的查询方式-42\"><span class=\"toc-item-num\">4.2&nbsp;&nbsp;</span>在执行查询前先让postgreSQL寻找最优的查询方式</a></div><div class=\"lev1 toc-item\"><a href=\"#References\" data-toc-modified-id=\"References-5\"><span class=\"toc-item-num\">5&nbsp;&nbsp;</span>References</a></div><div class=\"lev1 toc-item\"><a href=\"#Appendix\" data-toc-modified-id=\"Appendix-6\"><span class=\"toc-item-num\">6&nbsp;&nbsp;</span>Appendix</a></div><div class=\"lev2 toc-item\"><a href=\"#查看数据库当前的用户和属性\" data-toc-modified-id=\"查看数据库当前的用户和属性-61\"><span class=\"toc-item-num\">6.1&nbsp;&nbsp;</span>查看数据库当前的用户和属性</a></div>"
   ]
  },
  {
   "cell_type": "markdown",
   "metadata": {},
   "source": [
    "# 背景简介"
   ]
  },
  {
   "cell_type": "markdown",
   "metadata": {},
   "source": [
    "目前以Python和postgreSQL为基础的ETL运行效率较低，因此考虑从利用postgreSQL内置工具的角度提高ETL运行效率。"
   ]
  },
  {
   "cell_type": "markdown",
   "metadata": {},
   "source": [
    "# 配置文件设置"
   ]
  },
  {
   "cell_type": "markdown",
   "metadata": {},
   "source": [
    "## 检查当前设置"
   ]
  },
  {
   "cell_type": "markdown",
   "metadata": {},
   "source": [
    "通过以下语句登录postgreSQL交互终端：\n",
    "```\n",
    "psql -U <user_name> -d <database_name> -h <127.0.0.1> -p <5432>\n",
    "```\n",
    "\n",
    "运行以下语句查看主要配置的设置值:\n",
    "```\n",
    "SELECT name, context, unit, \n",
    "    setting, boot_val, reset_val\n",
    "FROM pg_settings\n",
    "WHERE name IN (\n",
    "\t'listen_addresses',\n",
    "\t'max_connections',\n",
    "\t'shared_buffers',\n",
    "\t'effective_cache_size',\n",
    "\t'work_mem',\n",
    "\t'maintenance_work_mem'\n",
    ")\n",
    "ORDER BY context, name;\n",
    "```\n",
    "\n",
    "输出如下:\n",
    "```\n",
    "         name         |  context   | unit |  setting  | boot_val  | reset_val \n",
    "----------------------+------------+------+-----------+-----------+-----------\n",
    " listen_addresses     | postmaster |      | localhost | localhost | localhost\n",
    " max_connections      | postmaster |      | 100       | 100       | 100\n",
    " shared_buffers       | postmaster | 8kB  | 16384     | 1024      | 16384\n",
    " effective_cache_size | user       | 8kB  | 524288    | 524288    | 524288\n",
    " maintenance_work_mem | user       | kB   | 65536     | 65536     | 65536\n",
    " work_mem             | user       | kB   | 4096      | 4096      | 4096\n",
    "(6 rows)\n",
    "```\n",
    "\n",
    "* 注意数据单位（unit）\n",
    "\n",
    "若仅需查看一个配置参数，可以用`SHOW`语句：\n",
    "```\n",
    "SHOW work_mem;\n",
    "```\n",
    "输出的格式会更容易理解：\n",
    "```\n",
    " work_mem \n",
    "----------\n",
    " 4MB\n",
    "(1 row)\n",
    "```"
   ]
  },
  {
   "cell_type": "markdown",
   "metadata": {},
   "source": [
    "Now the settings of postgresql on the server is: \n",
    "```\n",
    "         name         |  context   | unit |  setting  | boot_val  | reset_val \n",
    "----------------------+------------+------+-----------+-----------+-----------\n",
    " listen_addresses     | postmaster |      | localhost | localhost | localhost\n",
    " max_connections      | postmaster |      | 100       | 100       | 100\n",
    " shared_buffers       | postmaster | 8kB  | 524288    | 1024      | 524288\n",
    " effective_cache_size | user       | 8kB  | 1048576   | 524288    | 1048576\n",
    " maintenance_work_mem | user       | kB   | 1048576   | 65536     | 1048576\n",
    " work_mem             | user       | kB   | 8388608   | 4096      | 8388608\n",
    "(6 rows)\n",
    "```"
   ]
  },
  {
   "cell_type": "markdown",
   "metadata": {},
   "source": [
    "## 主要配置参数和建议值"
   ]
  },
  {
   "cell_type": "markdown",
   "metadata": {},
   "source": [
    "__以下是针对数据库服务器的配置参数，要使修改生效需要重新启动服务器（service restart）__\n",
    "\n",
    "\n",
    "* __listen_addresses__ 监听的地址\n",
    "\n",
    "    Informs PostgreSQL which IP addresses to listen on. This usually defaults to localhost or local, but many people change it to *, meaning all available IP addresses.\n",
    "\n",
    "\n",
    "* __port__ 端口位置\n",
    "\n",
    "    Defaults to 5432. If you happen to be on Red Hat or CentOS, make changes to the PGPORT value /etc/sysconfig/pgsql/your_service_name_here to change the listening port.\n",
    "\n",
    "\n",
    "* __max_connections__ 允许的最大同时连接数\n",
    "\n",
    "    The maximum number of concurrent connections allowed."
   ]
  },
  {
   "cell_type": "markdown",
   "metadata": {},
   "source": [
    "__根据经验，以下配置参数的修改会较大程度地影响查询效率：__\n",
    "\n",
    "* __shared_buffers__ \n",
    "\n",
    "    Defines the amount of memory shared among all connections to store recently accessed pages. \n",
    "    \n",
    "    This setting profoundly affects the speed of your queries. You want this setting to be fairly high, probably as much as 25% of your onboard memory. However, you’ll generally see diminishing returns after more than 8 GB. Changes require a restart.\n",
    "\n",
    "\n",
    "* __effective_cache_size__\n",
    "    \n",
    "    An estimate of how much memory you expect to be available in the OS and PostgreSQL buffer caches. This setting has no effect on actual allocation, but query planner figures in this setting to guess whether intermediate steps and query output would fit in RAM. If you set this much lower than available RAM, the planner may forgo using indexes. \n",
    "\n",
    "    With a dedicated server, setting effective_cache_size to half or more of your onboard memory would be a good start. Changes require at least a reload.\n",
    "\n",
    "\n",
    "* __maintenance_work_mem__\n",
    "\n",
    "    The total memory allocated for housekeeping activities such as vacuuming (pruning records marked for delete). \n",
    "    \n",
    "    You shouldn’t set it higher than about 1 GB. Reload after changes.\n",
    "    \n",
    "\n",
    "* __work_mem__\n",
    "\n",
    "    Controls the maximum amount of memory allocated for operations such as sorting, hash join, and table scans. The optimal setting depends on how you’re using the database, how much memory you have to spare, and whether your server is dedicated to PostgreSQL or not. If you have many users running simple queries, you want this setting to be relatively low. How high you set this also depends on how much RAM you have to begin with. \n",
    "    \n",
    "    Changes require at least a reload.\n"
   ]
  },
  {
   "cell_type": "markdown",
   "metadata": {},
   "source": [
    "## 如何修改配置参数设置"
   ]
  },
  {
   "cell_type": "markdown",
   "metadata": {},
   "source": [
    "### `ALTER DATABASE`  vs  `ALTER SYSTEM`"
   ]
  },
  {
   "cell_type": "markdown",
   "metadata": {},
   "source": [
    "|| ALTER DATABASE | ALTER SYSTEM |\n",
    "|--|--|--|\n",
    "| Definition | ALTER DATABASE changes the attributes of a database. | ALTER SYSTEM is used for changing server configuration parameters across the entire database cluster. |\n",
    "| Who can do the changes | database owner | superuser |\n",
    "| Where to take effect | database | system |\n",
    "| How to take effect | after reload | after create new database |\n",
    "| Change a configuration parameter | Yes | Yes |\n",
    "| Change owner/name/... of database | Yes | No |"
   ]
  },
  {
   "cell_type": "markdown",
   "metadata": {},
   "source": [
    "#### ALTER SYSTEM Synopsis\n",
    "```\n",
    "ALTER SYSTEM SET configuration_parameter { TO | = } { value | 'value' | DEFAULT }\n",
    "\n",
    "ALTER SYSTEM RESET configuration_parameter\n",
    "ALTER SYSTEM RESET ALL\n",
    "```"
   ]
  },
  {
   "cell_type": "markdown",
   "metadata": {},
   "source": [
    "#### ALTER DATABASE Synopsis\n",
    "```\n",
    "ALTER DATABASE name [ [ WITH ] option [ ... ] ]\n",
    "\n",
    "where option can be:\n",
    "\n",
    "    CONNECTION LIMIT connlimit\n",
    "\n",
    "ALTER DATABASE name RENAME TO new_name\n",
    "\n",
    "ALTER DATABASE name OWNER TO new_owner\n",
    "\n",
    "ALTER DATABASE name SET TABLESPACE new_tablespace\n",
    "\n",
    "ALTER DATABASE name SET configuration_parameter { TO | = } { value | DEFAULT }\n",
    "ALTER DATABASE name SET configuration_parameter FROM CURRENT\n",
    "ALTER DATABASE name RESET configuration_parameter\n",
    "ALTER DATABASE name RESET ALL\n",
    "```"
   ]
  },
  {
   "cell_type": "markdown",
   "metadata": {},
   "source": [
    "### 修改参数值"
   ]
  },
  {
   "cell_type": "markdown",
   "metadata": {},
   "source": [
    "The parameters which require \"a reload\" are:\n",
    "\n",
    "`effective_cache_size`, `work_mem`, `maintenance_work_mem`\n",
    "\n",
    "__Set__ the parameter config by sentence in PostgreSQL: \n",
    "```\n",
    "ALTER DATABASE set work_mem = 8192;\n",
    "```\n",
    "in the unit shown above in the output table, or specify the unit when setting: \n",
    "```\n",
    "ALTER DATABASE set work_mem = '8MB';\n",
    "```"
   ]
  },
  {
   "cell_type": "markdown",
   "metadata": {},
   "source": [
    "### 重新加载配置文件"
   ]
  },
  {
   "cell_type": "markdown",
   "metadata": {},
   "source": [
    "Then __reload__ config info, using one of the methods: \n",
    "* in PostgreSQL as a superuser: ```SELECT pg_reload_conf();``` （有可能不起作用，也不报错）\n",
    "* in Ubuntu terminal : ```service postgresql-9.5 reload``` （更推荐这种方式）"
   ]
  },
  {
   "cell_type": "markdown",
   "metadata": {},
   "source": [
    "### 重新启动数据库服务器"
   ]
  },
  {
   "cell_type": "markdown",
   "metadata": {},
   "source": [
    "Enter the Ubuntu terminal and type:\n",
    "```\n",
    "sudo service postgresql restart\n",
    "```"
   ]
  },
  {
   "cell_type": "markdown",
   "metadata": {},
   "source": [
    "## 小结\n",
    "\n",
    "| Parameter | Meaning | Default Value |Suggested Value | Need Reload or Restart | ALTER SYSTEM or DATABASE |\n",
    "|--|--|--|--|--|\n",
    "| listen_addresses     | Informs PostgreSQL which IP addresses to listen on. | localhost | * | Restart | SYSTEM |\n",
    "| max_connections      | The maximum number of concurrent connections allowed. | 100 |  | Restart | SYSTEM |\n",
    "| shared_buffers       | The amount of memory shared among all connections to store recently accessed pages. | 128MB | 0.25 * onboard-memory | Restart | SYSTEM |\n",
    "| effective_cache_size | An estimate of how much memory you expect to be available in the OS and PostgreSQL buffer caches. | 4GB | >= 0.5 * onboard-memory | Reload | DATABASE |\n",
    "| maintenance_work_mem | The total memory allocated for housekeeping activities such as vacuuming (pruning records marked for delete).  | 64MB | <= 1GB | Reload | DATABASE |\n",
    "| work_mem             | the maximum amount of memory allocated for operations such as sorting, hash join, and table scans. | 4MB |  | Reload | DATABASE |"
   ]
  },
  {
   "cell_type": "markdown",
   "metadata": {},
   "source": [
    "# 更新数据库的统计参数(Statistics) (!!!)\n",
    "\n",
    "## VACUUM\n",
    "\n",
    "After a large data load or a major deletion, you should manually update the stats by executing VACUUM ANALYZE.  \n",
    "VACUUM permanently removes deleted rows from tables; ANALYZE updates the stats."
   ]
  },
  {
   "cell_type": "markdown",
   "metadata": {},
   "source": [
    "## ANALYZE (!!!)"
   ]
  },
  {
   "cell_type": "markdown",
   "metadata": {},
   "source": [
    "### 用法\n",
    "```\n",
    "ANALYZE [ VERBOSE ] [ table [ ( column [, ...] ) ] ]\n",
    "```\n",
    "直接用`ANALYZE;`就可以ANALYZE当前database中所有的table。\n",
    "\n",
    "### Description\n",
    "\n",
    "ANALYZE collects statistics about the contents of tables in the database, and stores the results in the pg_statistic system catalog. Subsequently, the query planner uses these statistics to help determine the most efficient execution plans for queries.\n",
    "\n",
    "With no parameter, ANALYZE examines every table in the current database. With a parameter, ANALYZE examines only that table. It is further possible to give a list of column names, in which case only the statistics for those columns are collected.\n",
    "\n",
    "Accurate statistics will help the planner to choose the most appropriate query plan, and thereby improve the speed of query processing. A common strategy is to run VACUUM and ANALYZE once a day during a low-usage time of day.\n",
    "\n",
    "ANALYZE requires only a read lock on the target table, so it can run in parallel with other activity on the table.\n"
   ]
  },
  {
   "cell_type": "markdown",
   "metadata": {},
   "source": [
    "# 写SQL语句时考虑运行效率\n",
    "\n",
    "## 建议\n",
    "\n",
    "* 尽量减少查询的嵌套\n",
    "* 尽量避免 `SELECT *`\n",
    "* 多利用CASE语句，而非查询嵌套\n",
    "\n",
    "## 在执行查询前先让postgreSQL寻找最优的查询方式\n",
    "\n",
    "不过，在实践中发现，EXPLAIN复杂的查询语句需要花费很长的时间。\n",
    "```\n",
    "EXPLAIN (ANALYZE, VERBOSE, BUFFERS) your_query_here;\n",
    "```\n"
   ]
  },
  {
   "cell_type": "markdown",
   "metadata": {},
   "source": [
    "# References\n",
    "\n",
    "* postgresql_server_configure_settings\n",
    "    * [PostgreSQL Up & Running (safaribooksonline)](https://www.safaribooksonline.com/library/view/postgresql-up-and/9781449373184/ch02.html)\n",
    "    * [PostgreSQL Documentation (official documentation)](https://www.postgresql.org/docs/9.5/static/index.html)\n",
    "    * [Tuning Your PostgreSQL Server (postgresql wiki)](https://wiki.postgresql.org/wiki/Tuning_Your_PostgreSQL_Server)"
   ]
  },
  {
   "cell_type": "markdown",
   "metadata": {},
   "source": [
    "# Appendix\n",
    "\n",
    "## 查看数据库当前的用户和属性\n",
    "\n",
    "不过这里显示是superuser，在reload时直接在postgreSQL内运行`pg_reload_conf();`也有可能失败。\n",
    "\n",
    "```\n",
    "SELECT * FROM pg_user;\n",
    "```\n",
    "\n",
    "```\n",
    "   usename   | usesysid | usecreatedb | usesuper | userepl | usebypassrls |  passwd  | valuntil | useconfig \n",
    "-------------+----------+-------------+----------+---------+--------------+----------+----------+-----------\n",
    " datascience |    16384 | f           | t        | f       | f            | ******** |          | \n",
    " postgres    |       10 | t           | t        | t       | f            | ******** |          | \n",
    "(2 rows)\n",
    "```"
   ]
  },
  {
   "cell_type": "markdown",
   "metadata": {},
   "source": [
    "A database user may have a number of attributes that define its privileges and interact with the client authentication system.\n",
    "\n",
    "superuser\n",
    "\n",
    "    A database superuser bypasses all permission checks. Also, only a superuser can create new users. To create a database superuser, use CREATE USER name CREATEUSER.\n",
    "    \n",
    "database creation\n",
    "\n",
    "    A user must be explicitly given permission to create databases (except for superusers, since those bypass all permission checks). To create such a user, use CREATE USER name CREATEDB.\n",
    "    \n",
    "password\n",
    "\n",
    "    A password is only significant if the client authentication method requires the user to supply a password when connecting to the database. The password, md5, and crypt authentication methods make use of passwords. Database passwords are separate from operating system passwords. Specify a password upon user creation with CREATE USER name PASSWORD 'string'.\n",
    "\n"
   ]
  },
  {
   "cell_type": "code",
   "execution_count": null,
   "metadata": {
    "collapsed": true
   },
   "outputs": [],
   "source": []
  }
 ],
 "metadata": {
  "kernelspec": {
   "display_name": "Python 3",
   "language": "python",
   "name": "python3"
  },
  "language_info": {
   "codemirror_mode": {
    "name": "ipython",
    "version": 3
   },
   "file_extension": ".py",
   "mimetype": "text/x-python",
   "name": "python",
   "nbconvert_exporter": "python",
   "pygments_lexer": "ipython3",
   "version": "3.5.2"
  },
  "toc": {
   "colors": {
    "hover_highlight": "#DAA520",
    "running_highlight": "#FF0000",
    "selected_highlight": "#FFD700"
   },
   "moveMenuLeft": true,
   "nav_menu": {
    "height": "468px",
    "width": "252px"
   },
   "navigate_menu": true,
   "number_sections": true,
   "sideBar": true,
   "threshold": 4,
   "toc_cell": true,
   "toc_section_display": "block",
   "toc_window_display": true
  }
 },
 "nbformat": 4,
 "nbformat_minor": 1
}
